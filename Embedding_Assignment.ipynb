{
  "nbformat": 4,
  "nbformat_minor": 0,
  "metadata": {
    "colab": {
      "provenance": [],
      "authorship_tag": "ABX9TyM+2iS2riXELhOKm8gSrlRQ",
      "include_colab_link": true
    },
    "kernelspec": {
      "name": "python3",
      "display_name": "Python 3"
    },
    "language_info": {
      "name": "python"
    }
  },
  "cells": [
    {
      "cell_type": "markdown",
      "metadata": {
        "id": "view-in-github",
        "colab_type": "text"
      },
      "source": [
        "<a href=\"https://colab.research.google.com/github/MadhuraTonpe165/Word_Embedding/blob/main/Embedding_Assignment.ipynb\" target=\"_parent\"><img src=\"https://colab.research.google.com/assets/colab-badge.svg\" alt=\"Open In Colab\"/></a>"
      ]
    },
    {
      "cell_type": "markdown",
      "source": [
        "# BoW- Bag of Words"
      ],
      "metadata": {
        "id": "lzrtDoeZvexa"
      }
    },
    {
      "cell_type": "code",
      "source": [
        "from sklearn.feature_extraction.text import CountVectorizer\n",
        "\n",
        "# Sample text data: sentences\n",
        "corpus = [\n",
        "    \"Python is amazing and fun.\",\n",
        "    \"Python is not just fun but also powerful.\",\n",
        "    \"Learning Python is fun!\",\n",
        "]\n",
        "\n",
        "# Initialize the CountVectorizer\n",
        "vectorizer = CountVectorizer()\n",
        "\n",
        "# Fit and transform the corpus to a document-term matrix\n",
        "X = vectorizer.fit_transform(corpus)\n",
        "\n",
        "# Convert the document-term matrix into a dense format (optional for visualization)\n",
        "X_dense = X.toarray()\n",
        "\n",
        "# Get the vocabulary (mapping of words to index positions)\n",
        "vocab = vectorizer.get_feature_names_out()\n",
        "\n",
        "# Print the vocabulary and document-term matrix\n",
        "print(\"Vocabulary:\", vocab)\n",
        "print(\"Document-Term Matrix:\\n\", X_dense)"
      ],
      "metadata": {
        "colab": {
          "base_uri": "https://localhost:8080/"
        },
        "id": "b7EZhPl8vkxE",
        "outputId": "13ad46cc-6a47-4336-dd82-3759ee79ce6e"
      },
      "execution_count": null,
      "outputs": [
        {
          "output_type": "stream",
          "name": "stdout",
          "text": [
            "Vocabulary: ['also' 'amazing' 'and' 'but' 'fun' 'is' 'just' 'learning' 'not'\n",
            " 'powerful' 'python']\n",
            "Document-Term Matrix:\n",
            " [[0 1 1 0 1 1 0 0 0 0 1]\n",
            " [1 0 0 1 1 1 1 0 1 1 1]\n",
            " [0 0 0 0 1 1 0 1 0 0 1]]\n"
          ]
        }
      ]
    },
    {
      "cell_type": "markdown",
      "source": [
        "# TF-IDF"
      ],
      "metadata": {
        "id": "vtCdZUAmwaWk"
      }
    },
    {
      "cell_type": "code",
      "source": [
        "from sklearn.feature_extraction.text import TfidfVectorizer\n",
        "\n",
        "# Sample text data: sentences\n",
        "corpus = [\n",
        "    \"Python is amazing and fun.\",\n",
        "    \"Python is not just fun but also powerful.\",\n",
        "    \"Learning Python is fun!\",\n",
        "]\n",
        "\n",
        "# Create the Tf-idf vectorizer\n",
        "tfidf_vectorizer = TfidfVectorizer()\n",
        "\n",
        "# Fit and transform the corpus\n",
        "X_tfidf = tfidf_vectorizer.fit_transform(corpus)\n",
        "\n",
        "# Show the Vocabulary\n",
        "print(\"Vocabulary:\", tfidf_vectorizer.get_feature_names_out())\n",
        "\n",
        "# Show the TF-IDF Matrix\n",
        "print(\"\\nTF-IDF Representation:\")\n",
        "print(X_tfidf.toarray())"
      ],
      "metadata": {
        "colab": {
          "base_uri": "https://localhost:8080/"
        },
        "id": "pT0wStkdwgo8",
        "outputId": "a8dc1d63-9c1e-433b-ecc0-11dc493b933f"
      },
      "execution_count": null,
      "outputs": [
        {
          "output_type": "stream",
          "name": "stdout",
          "text": [
            "Vocabulary: ['also' 'amazing' 'and' 'but' 'fun' 'is' 'just' 'learning' 'not'\n",
            " 'powerful' 'python']\n",
            "\n",
            " TF-IDF Representation:\n",
            "[[0.         0.57292883 0.57292883 0.         0.338381   0.338381\n",
            "  0.         0.         0.         0.         0.338381  ]\n",
            " [0.40667606 0.         0.         0.40667606 0.24018943 0.24018943\n",
            "  0.40667606 0.         0.40667606 0.40667606 0.24018943]\n",
            " [0.         0.         0.         0.         0.41285857 0.41285857\n",
            "  0.         0.69903033 0.         0.         0.41285857]]\n"
          ]
        }
      ]
    },
    {
      "cell_type": "markdown",
      "source": [
        "#Word2Vec"
      ],
      "metadata": {
        "id": "RcZxDKeSynHT"
      }
    },
    {
      "cell_type": "code",
      "source": [
        "!pip install gensim"
      ],
      "metadata": {
        "colab": {
          "base_uri": "https://localhost:8080/",
          "height": 690
        },
        "id": "CiSB4p-n1T0r",
        "outputId": "2f6a6c93-2360-49f2-fdd4-a281b3fd7b8a"
      },
      "execution_count": null,
      "outputs": [
        {
          "output_type": "stream",
          "name": "stdout",
          "text": [
            "Collecting gensim\n",
            "  Downloading gensim-4.3.3-cp312-cp312-manylinux_2_17_x86_64.manylinux2014_x86_64.whl.metadata (8.1 kB)\n",
            "Collecting numpy<2.0,>=1.18.5 (from gensim)\n",
            "  Downloading numpy-1.26.4-cp312-cp312-manylinux_2_17_x86_64.manylinux2014_x86_64.whl.metadata (61 kB)\n",
            "\u001b[2K     \u001b[90m━━━━━━━━━━━━━━━━━━━━━━━━━━━━━━━━━━━━━━━━\u001b[0m \u001b[32m61.0/61.0 kB\u001b[0m \u001b[31m3.6 MB/s\u001b[0m eta \u001b[36m0:00:00\u001b[0m\n",
            "\u001b[?25hCollecting scipy<1.14.0,>=1.7.0 (from gensim)\n",
            "  Downloading scipy-1.13.1-cp312-cp312-manylinux_2_17_x86_64.manylinux2014_x86_64.whl.metadata (60 kB)\n",
            "\u001b[2K     \u001b[90m━━━━━━━━━━━━━━━━━━━━━━━━━━━━━━━━━━━━━━━━\u001b[0m \u001b[32m60.6/60.6 kB\u001b[0m \u001b[31m3.4 MB/s\u001b[0m eta \u001b[36m0:00:00\u001b[0m\n",
            "\u001b[?25hRequirement already satisfied: smart-open>=1.8.1 in /usr/local/lib/python3.12/dist-packages (from gensim) (7.3.0.post1)\n",
            "Requirement already satisfied: wrapt in /usr/local/lib/python3.12/dist-packages (from smart-open>=1.8.1->gensim) (1.17.3)\n",
            "Downloading gensim-4.3.3-cp312-cp312-manylinux_2_17_x86_64.manylinux2014_x86_64.whl (26.6 MB)\n",
            "\u001b[2K   \u001b[90m━━━━━━━━━━━━━━━━━━━━━━━━━━━━━━━━━━━━━━━━\u001b[0m \u001b[32m26.6/26.6 MB\u001b[0m \u001b[31m56.1 MB/s\u001b[0m eta \u001b[36m0:00:00\u001b[0m\n",
            "\u001b[?25hDownloading numpy-1.26.4-cp312-cp312-manylinux_2_17_x86_64.manylinux2014_x86_64.whl (18.0 MB)\n",
            "\u001b[2K   \u001b[90m━━━━━━━━━━━━━━━━━━━━━━━━━━━━━━━━━━━━━━━━\u001b[0m \u001b[32m18.0/18.0 MB\u001b[0m \u001b[31m68.9 MB/s\u001b[0m eta \u001b[36m0:00:00\u001b[0m\n",
            "\u001b[?25hDownloading scipy-1.13.1-cp312-cp312-manylinux_2_17_x86_64.manylinux2014_x86_64.whl (38.2 MB)\n",
            "\u001b[2K   \u001b[90m━━━━━━━━━━━━━━━━━━━━━━━━━━━━━━━━━━━━━━━━\u001b[0m \u001b[32m38.2/38.2 MB\u001b[0m \u001b[31m13.4 MB/s\u001b[0m eta \u001b[36m0:00:00\u001b[0m\n",
            "\u001b[?25hInstalling collected packages: numpy, scipy, gensim\n",
            "  Attempting uninstall: numpy\n",
            "    Found existing installation: numpy 2.0.2\n",
            "    Uninstalling numpy-2.0.2:\n",
            "      Successfully uninstalled numpy-2.0.2\n",
            "  Attempting uninstall: scipy\n",
            "    Found existing installation: scipy 1.16.1\n",
            "    Uninstalling scipy-1.16.1:\n",
            "      Successfully uninstalled scipy-1.16.1\n",
            "\u001b[31mERROR: pip's dependency resolver does not currently take into account all the packages that are installed. This behaviour is the source of the following dependency conflicts.\n",
            "opencv-python-headless 4.12.0.88 requires numpy<2.3.0,>=2; python_version >= \"3.9\", but you have numpy 1.26.4 which is incompatible.\n",
            "opencv-contrib-python 4.12.0.88 requires numpy<2.3.0,>=2; python_version >= \"3.9\", but you have numpy 1.26.4 which is incompatible.\n",
            "opencv-python 4.12.0.88 requires numpy<2.3.0,>=2; python_version >= \"3.9\", but you have numpy 1.26.4 which is incompatible.\n",
            "thinc 8.3.6 requires numpy<3.0.0,>=2.0.0, but you have numpy 1.26.4 which is incompatible.\n",
            "tsfresh 0.21.0 requires scipy>=1.14.0; python_version >= \"3.10\", but you have scipy 1.13.1 which is incompatible.\u001b[0m\u001b[31m\n",
            "\u001b[0mSuccessfully installed gensim-4.3.3 numpy-1.26.4 scipy-1.13.1\n"
          ]
        },
        {
          "output_type": "display_data",
          "data": {
            "application/vnd.colab-display-data+json": {
              "pip_warning": {
                "packages": [
                  "numpy",
                  "scipy"
                ]
              },
              "id": "ff157a8518dc4f7c9dba1cf67d187649"
            }
          },
          "metadata": {}
        }
      ]
    },
    {
      "cell_type": "code",
      "source": [
        "# Importing Important Libraries\n",
        "import numpy as np\n",
        "import matplotlib.pyplot as plt\n",
        "import pandas as pd\n",
        "import re\n",
        "from gensim.models import Word2Vec"
      ],
      "metadata": {
        "id": "6ZitgqunwuSt"
      },
      "execution_count": null,
      "outputs": []
    },
    {
      "cell_type": "code",
      "source": [
        "import kagglehub\n",
        "from kagglehub import KaggleDatasetAdapter\n",
        "\n",
        "dataset = pd.read_csv(\"/kaggle/input/covid-19-nlp-text-classification/Corona_NLP_train.csv\", encoding='ISO-8859-1')\n",
        "\n",
        "print(\"First 5 records:\", dataset.head())"
      ],
      "metadata": {
        "colab": {
          "base_uri": "https://localhost:8080/"
        },
        "id": "uZJKJZuf22_f",
        "outputId": "a707a6fd-1b67-43eb-e539-582ecb7ea74a"
      },
      "execution_count": null,
      "outputs": [
        {
          "output_type": "stream",
          "name": "stdout",
          "text": [
            "First 5 records:    UserName  ScreenName   Location     TweetAt  \\\n",
            "0      3799       48751     London  16-03-2020   \n",
            "1      3800       48752         UK  16-03-2020   \n",
            "2      3801       48753  Vagabonds  16-03-2020   \n",
            "3      3802       48754        NaN  16-03-2020   \n",
            "4      3803       48755        NaN  16-03-2020   \n",
            "\n",
            "                                       OriginalTweet           Sentiment  \n",
            "0  @MeNyrbie @Phil_Gahan @Chrisitv https://t.co/i...             Neutral  \n",
            "1  advice Talk to your neighbours family to excha...            Positive  \n",
            "2  Coronavirus Australia: Woolworths to give elde...            Positive  \n",
            "3  My food stock is not the only one which is emp...            Positive  \n",
            "4  Me, ready to go at supermarket during the #COV...  Extremely Negative  \n"
          ]
        }
      ]
    },
    {
      "cell_type": "code",
      "source": [
        "texts=[]\n",
        "for i in range(0,len(dataset)):\n",
        "  text = re.sub('[^a-zA-Z]' , ' ', dataset['OriginalTweet'][i])\n",
        "  text = text.lower()\n",
        "  text = text.split()\n",
        "  x = len(text) if text.count('https') ==0  else text.index('https')\n",
        "  text = text[: x ]\n",
        "  text = [t for t in text if not t=='https']\n",
        "  text = ' '.join(text)\n",
        "  texts.append(text)\n",
        "\n",
        "sentences = [line.split() for line in texts]\n",
        "\n",
        "w2v = Word2Vec(sentences, vector_size=100, window=5, workers=4, epochs=10, min_count=5)\n",
        "\n",
        "print(sentences[20:25])"
      ],
      "metadata": {
        "colab": {
          "base_uri": "https://localhost:8080/"
        },
        "id": "9RVBFuVP26gB",
        "outputId": "a9c7864c-20f0-46dc-b50a-75ae3c6f8b4b"
      },
      "execution_count": null,
      "outputs": [
        {
          "output_type": "stream",
          "name": "stdout",
          "text": [
            "[['with', 'nations', 'inficted', 'with', 'covid', 'the', 'world', 'must', 'not', 'play', 'fair', 'with', 'china', 'goverments', 'must', 'demand', 'china', 'adopts', 'new', 'guilde', 'lines', 'on', 'food', 'safty', 'the', 'chinese', 'goverment', 'is', 'guilty', 'of', 'being', 'irosponcible', 'with', 'life', 'on', 'a', 'global', 'scale'], [], ['we', 'have', 'amazing', 'cheap', 'deals', 'for', 'the', 'covid', 'going', 'on', 'to', 'help', 'you', 'trials', 'monthly', 'yearly', 'and', 'resonable', 'prices', 'subscriptions', 'just', 'dm', 'us', 'bestiptv', 'iptv', 'service', 'iptv', 'iptvdeals', 'cheap', 'iptv', 'football', 'hd', 'movies', 'adult', 'cinema', 'hotmovies', 'iptvnew', 'iptv', 'adult'], ['we', 'have', 'amazing', 'cheap', 'deals', 'for', 'the', 'covid', 'going', 'on', 'to', 'help', 'you', 'trials', 'monthly', 'yearly', 'and', 'resonable', 'prices', 'subscriptions', 'just', 'dm', 'us', 'bestiptv', 'iptv', 'service', 'iptv', 'iptvdeals', 'cheap', 'iptv', 'football', 'hd', 'movies', 'adult', 'cinema', 'hotmovies', 'iptv', 'iptvlinks', 'movies'], ['downingstreet', 'grantshapps', 'what', 'is', 'being', 'done', 'to', 'ensure', 'food', 'and', 'other', 'essential', 'products', 'are', 'being', 're', 'stocked', 'at', 'supermarkets', 'and', 'panic', 'buying', 'actively', 'discouraged', 'it', 'cannot', 'be', 'left', 'to', 'checkout', 'staff', 'to', 'police', 'the', 'actions', 'of', 'the', 'selfish', 'and', 'profiteer']]\n"
          ]
        }
      ]
    },
    {
      "cell_type": "code",
      "source": [
        "words = list(w2v.wv.index_to_key)\n",
        "print(words)\n",
        "\n",
        "print( w2v.wv['computer'] )"
      ],
      "metadata": {
        "colab": {
          "base_uri": "https://localhost:8080/"
        },
        "id": "CCvjWNVh0iDG",
        "outputId": "925f93fd-0e46-46be-81d3-8472bf17c5f0"
      },
      "execution_count": null,
      "outputs": [
        {
          "output_type": "stream",
          "name": "stdout",
          "text": [
            "['the', 'to', 'and', 'of', 'covid', 'a', 'in', 'coronavirus', 'for', 'is', 'are', 'i', 'you', 'on', 's', 'this', 'prices', 'at', 'it', 'food', 'supermarket', 'we', 'store', 'that', 'with', 'grocery', 'have', 'as', 'be', 'people', 't', 'from', 'amp', 'all', 'can', 'consumer', 'your', 'not', 'will', 'they', 'my', 'our', 'up', 'out', 'has', 'or', 'by', 'more', 'but', 'shopping', 'if', 'online', 'how', 'their', 'during', 'pandemic', 'so', 'now', 'no', 'what', 'get', 'about', 'who', 'need', 'workers', 'panic', 'just', 'there', 'us', 'do', 'like', 'time', 'sanitizer', 'home', 'was', 'an', 'demand', 'go', 'when', 'some', 'help', 'hand', 'stock', 'don', 're', 'going', 'one', 'm', 'me', 'here', 'due', 'buying', 'been', 'oil', 'new', 'crisis', 'please', 'work', 'them', 'after', 'other', 'toilet', 'because', 'only', 'these', 'should', 'toiletpaper', 'than', 'paper', 'today', 'over', 'stay', 'local', 'retail', 'keep', 'buy', 'stores', 'many', 'shelves', 'still', 'being', 'make', 'delivery', 'those', 'down', 'see', 'day', 'know', 'why', 'take', 'lockdown', 'supply', 'outbreak', 'would', 'stop', 'its', 'uk', 'staff', 'into', 've', 'virus', 'social', 'everyone', 'could', 'any', 'had', 'even', 'masks', 'price', 'while', 'health', 'working', 'essential', 'also', 'week', 'world', 'market', 'think', 'good', 'business', 'amid', 'spread', 'he', 'use', 'shop', 'customers', 'were', 'safe', 'most', 'way', 'thank', 'am', 'government', 'off', 'employees', 'which', 'socialdistancing', 'right', 'impact', 'every', 'products', 'back', 'much', 'before', 'news', 'first', 'may', 'items', 'doing', 'supplies', 'times', 'last', 'mask', 'free', 'where', 'support', 'read', 'well', 'days', 'face', 'high', 'low', 'want', 'around', 'find', 'got', 'coronacrisis', 'then', 'global', 'distancing', 'quarantine', 'through', 'said', 'let', 'weeks', 'supermarkets', 'u', 'gas', 'public', 'risk', 'corona', 'empty', 'too', 'open', 'says', 'country', 'getting', 'really', 'money', 'went', 'very', 'economy', 'since', 'companies', 'she', 'businesses', 'consumers', 'long', 'care', 'order', 'say', 'two', 'making', 'things', 'next', 'her', 'line', 'enough', 'great', 'his', 'look', 'others', 'full', 'll', 'available', 'march', 'hands', 'service', 'check', 'pay', 'family', 'via', 'services', 'hours', 'shops', 'gloves', 'taking', 'chain', 'against', 'anyone', 'medical', 'come', 'put', 'response', 'across', 'year', 'must', 'industry', 'china', 'trump', 'd', 'house', 'life', 'increase', 'few', 'state', 'needs', 'everything', 'hoarding', 'goods', 'fight', 'markets', 'closed', 'self', 'protect', 'big', 'trying', 'without', 'same', 'etc', 'best', 'report', 'groceries', 'emergency', 'never', 'increased', 'already', 'economic', 'community', 'amazon', 'thing', 'vulnerable', 'sure', 'close', 'elderly', 'per', 'drivers', 'live', 'give', 'post', 'thanks', 'small', 'made', 'place', 'did', 'each', 'someone', 'real', 'scams', 'india', 'call', 'sales', 'seen', 'having', 'better', 'such', 'situation', 'continue', 'shoppers', 'banks', 'latest', 'using', 'behavior', 'does', 'lot', 'job', 'another', 'hard', 'person', 'looking', 'cases', 'hope', 'away', 'bank', 'morning', 'healthcare', 'part', 'share', 'important', 'hit', 'avoid', 'water', 'together', 'coming', 'selling', 'gt', 'left', 'under', 'data', 'able', 'own', 'n', 'production', 'front', 'retailers', 'coronaviruspandemic', 'daily', 'drop', 'tesco', 'nhs', 'protection', 'learn', 'stayhome', 'change', 'run', 'information', 'normal', 'company', 'spending', 'end', 'ever', 'current', 'list', 'essentials', 'until', 'key', 'less', 'measures', 'won', 'else', 'positive', 'again', 'might', 'start', 'least', 'coronavirusoutbreak', 'pm', 'outside', 'feel', 'safety', 'financial', 'related', 'milk', 'man', 'wash', 'remember', 'leave', 'done', 'police', 'told', 'jobs', 'seeing', 'little', 'thought', 'nothing', 'years', 'tips', 'w', 'months', 'stayathome', 'shortage', 'cut', 'wearing', 'lives', 'stayhomesavelives', 'something', 'old', 'month', 'meet', 'yet', 'fall', 'farmers', 'restaurants', 'keeping', 'families', 'contact', 'helping', 'sick', 'video', 'worker', 'including', 'april', 'doesn', 'e', 'access', 'reports', 'soap', 'update', 'doctors', 'roll', 'isolation', 'travel', 'wear', 'chains', 'panicbuying', 'isn', 'running', 'stophoarding', 'rise', 'alcohol', 'distance', 'lower', 'americans', 'possible', 'try', 'higher', 'bad', 'used', 'always', 'city', 'needed', 'instead', 'non', 'lines', 'b', 'media', 'nurses', 'found', 'set', 'yourself', 'based', 'number', 'soon', 'likely', 'provide', 'major', 'visit', 'stocked', 'hospital', 'prevent', 'bought', 'changes', 'pharmacy', 'shortages', 'once', 'follow', 'offering', 'watch', 'drive', 'didn', 'love', 'anything', 'advice', 'relief', 'tp', 'k', 'testing', 'putting', 'govt', 'sanitizers', 'hour', 'produce', 'gouging', 'between', 'yesterday', 'selfish', 'friends', 'far', 'walmart', 'especially', 'orders', 'coronavirusupdate', 'advantage', 'affected', 'almost', 'aren', 'gone', 'deal', 'healthy', 'states', 'ensure', 'special', 'car', 'million', 'brands', 'whole', 'paid', 'meat', 'understand', 'join', 'th', 'saw', 'customer', 'top', 'sell', 'result', 'reduce', 'following', 'russia', 'system', 'eat', 'staying', 'kids', 'fear', 'control', 'realdonaldtrump', 'area', 'show', 'credit', 'test', 'means', 'website', 'fresh', 'actually', 'tested', 'war', 'stoppanicbuying', 'remain', 'article', 'countries', 'bread', 'save', 'heroes', 'surge', 'shut', 'below', 'story', 'y', 'tell', 'case', 'die', 'info', 'despite', 'wait', 'canada', 'works', 'sold', 'rolls', 'caused', 'stuff', 'point', 'cannot', 'ask', 'huge', 'announced', 'australia', 'extra', 'america', 'woman', 'cost', 'kind', 'cash', 'saying', 'waiting', 'critical', 'trip', 'themselves', 'maybe', 'moment', 'three', 'period', 'early', 'given', 'italy', 'asked', 'yes', 'limit', 'changing', 'security', 'difficult', 'restaurant', 'c', 'ago', 'facing', 'idea', 'clean', 'shit', 'product', 'struggling', 'queue', 'employee', 'eggs', 'drug', 'become', 'cleaning', 'personal', 'short', 'staysafe', 'fuel', 'both', 'taken', 'him', 'basic', 'increasing', 'mean', 'national', 'pick', 'bring', 'ways', 'spreading', 'scammers', 'lost', 'seriously', 'nation', 'fast', 'tomorrow', 'different', 'crazy', 'currently', 'sector', 'shift', 'inside', 'consider', 'president', 'purchase', 'experts', 'survive', 'term', 'started', 'trends', 'changed', 'sainsburys', 'restrictions', 'research', 'quarantinelife', 'energy', 'cause', 'stockpiling', 'future', 'ppl', 'giving', 'closing', 'buyers', 'gold', 'deliveries', 'guys', 'offer', 'act', 'further', 'reduced', 'allowed', 'group', 'issues', 'stocks', 'large', 'sign', 'action', 'shows', 'behaviour', 'asda', 'team', 'american', 'makes', 'hey', 'recent', 'donate', 'fears', 'office', 'plan', 'providing', 'school', 'rs', 'r', 'ppe', 'trade', 'wrong', 'confidence', 'asking', 'recession', 'london', 'fucking', 'alert', 'starting', 'closures', 'concerns', 'plenty', 'folks', 'marketing', 'law', 'usa', 'strong', 'st', 'walk', 'problem', 'general', 'wipes', 'direct', 'crude', 'near', 'goes', 'pasta', 'thinking', 'falling', 'gonna', 'ready', 'continues', 'worried', 'ones', 'worse', 'household', 'past', 'came', 'living', 'link', 'gov', 'bit', 'according', 'limited', 'raise', 'chinese', 'longer', 'door', 'afford', 'hear', 'though', 'deliver', 'questions', 'probably', 'fighting', 'god', 'behind', 'expected', 'believe', 'half', 'haven', 'saudi', 'ceo', 'resources', 'single', 'borisjohnson', 'night', 'expect', 'fuck', 'equipment', 'email', 'died', 'citizens', 'federal', 'allow', 'happy', 'necessary', 'monday', 'send', 'poor', 'looks', 'delivered', 'friend', 'members', 'hospitals', 'bottle', 'updates', 'income', 'insights', 'side', 'experience', 'rules', 'parents', 'ok', 'ecommerce', 'truck', 'frontline', 'p', 'nice', 'county', 'efforts', 'seems', 'message', 'rice', 'lots', 'anxiety', 'forced', 'foods', 'pack', 'places', 'sale', 'tests', 'light', 'co', 'coronavirusuk', 'hoard', 'symptoms', 'called', 'plans', 'society', 'easter', 'reason', 'rising', 'question', 'unprecedented', 'effects', 'potential', 'digital', 'issue', 'seniors', 'blog', 'gets', 'kill', 'survey', 'human', 'serious', 'apart', 'comes', 'calls', 'habits', 'slots', 'ebay', 'took', 'south', 'however', 'amount', 'biggest', 'listen', 'opening', 'responders', 'finally', 'phone', 'inflated', 'california', 'interesting', 'usual', 'street', 'infected', 'nurse', 'bags', 'hygiene', 'death', 'effect', 'click', 'move', 'hiking', 'worth', 'massive', 'wake', 'beginning', 'residents', 'morrisons', 'talk', 'collapse', 'driving', 'level', 'handsanitizer', 'rather', 'several', 'temporarily', 'coughing', 'disease', 'clear', 'policy', 'growing', 'washing', 'distribution', 'sentiment', 'donations', 'dear', 'true', 'shelf', 'cure', 'dont', 'bill', 'debt', 'homes', 'record', 'rent', 'forget', 'communities', 'pretty', 'cheap', 'happen', 'amazing', 'oh', 'touch', 'x', 'ftc', 'force', 'children', 'breaking', 'hoarders', 'couple', 'rate', 'details', 'hold', 'opec', 'among', 'myself', 'profit', 'unemployment', 'hi', 'step', 'growth', 'calling', 'feed', 'insurance', 'spend', 'showing', 'guess', 'dr', 'fake', 'easy', 'shame', 'rt', 'toiletpapercrisis', 'minister', 'vegetables', 'profiteering', 'tonight', 'commerce', 'impacted', 'costs', 'f', 'giant', 'regarding', 'later', 'o', 'stand', 'donating', 'second', 'calm', 'power', 'quick', 'challenges', 'sir', 'simple', 'commodities', 'turn', 'g', 'fruit', 'package', 'mind', 'department', 'priority', 'meals', 'talking', 'deaths', 'card', 'dropped', 'wine', 'four', 'benefits', 'worry', 'notice', 'note', 'thousands', 'worst', 'bulk', 'ahead', 'paying', 'webinar', 'impacts', 'united', 'quickly', 'clerks', 'eating', 'head', 'weekly', 'imagine', 'takes', 'plus', 'along', 'protective', 'stimulus', 'mass', 'producers', 'age', 'scam', 'housing', 'certain', 'date', 'rest', 'groups', 'aisles', 'fact', 'billion', 'millions', 'petrol', 'toiletpaperpanic', 'increases', 'steps', 'absolutely', 'ridiculous', 'within', 'areas', 'sense', 'either', 'aisle', 'europe', 'lock', 'shares', 'whether', 'baby', 'wanted', 'bare', 'couldn', 'practice', 'town', 'offers', 'regular', 'often', 'standing', 'fed', 'panicbuyinguk', 'wonder', 'telling', 'station', 'decline', 'patients', 'amidst', 'cough', 'internet', 'created', 'warning', 'air', 'checkout', 'epidemic', 'wants', 'walking', 'include', 'heard', 'slow', 'rights', 'lead', 'causing', 'stocking', 'raising', 'app', 'pressure', 'waste', 'total', 'prepare', 'older', 'maintain', 'respect', 'lady', 'isolate', 'weekend', 'pharmacies', 'appreciate', 'thursday', 'opportunity', 'chance', 'exposed', 'value', 'create', 'arabia', 'fda', 'facebook', 'space', 'busy', 'operations', 'temporary', 'mom', 'lol', 'till', 'common', 'decided', 'waitrose', 'white', 'unless', 'enter', 'add', 'black', 'levels', 'property', 'wish', 'break', 'unable', 'effective', 'narendramodi', 'shipping', 'completely', 'lack', 'minutes', 'governments', 'hunger', 'fraud', 'literally', 'chicken', 'senior', 'happening', 'deserve', 'scared', 'kits', 'commodity', 'options', 'cashiers', 'volunteers', 'felt', 'york', 'super', 'grateful', 'sent', 'uncertainty', 'limits', 'assistance', 'lowest', 'private', 'hike', 'greater', 'largest', 'funny', 'isolating', 'trading', 'feet', 'box', 'wife', 'friday', 'owners', 'focus', 'sanitiser', 'coronaviruslockdown', 'double', 'tax', 'cashier', 'competition', 'brand', 'queues', 'agree', 'novel', 'spreads', 'affect', 'guy', 'cuts', 'charge', 'entire', 'guidelines', 'aware', 'except', 'bag', 'guidance', 'return', 'bottles', 'doctor', 'everyday', 'reported', 'asian', 'bc', 'middle', 'happens', 'fund', 'commission', 'alone', 'feeling', 'target', 'delivering', 'schools', 'transport', 'trips', 'nigeria', 'confirmed', 'reach', 'nearly', 'husband', 'impacting', 'answer', 'profits', 'shifts', 'fully', 'watching', 'sellers', 'driven', 'example', 'worked', 'tech', 'mother', 'supporting', 'play', 'concerned', 'dealing', 'greedy', 'finding', 'matter', 'governor', 'recovery', 'updated', 'fair', 'apparently', 'significant', 'sad', 'beyond', 'traffic', 'everywhere', 'wage', 'manufacturing', 'dairy', 'book', 'purchases', 'industries', 'suppliers', 'threat', 'rates', 'numbers', 'consumption', 'worldwide', 'recently', 'reality', 'sunday', 'stupid', 'leading', 'minimum', 'member', 'infection', 'item', 'piece', 'tv', 'cancelled', 'led', 'coronavirususa', 'leaving', 'activity', 'bus', 'officials', 'inflation', 'forward', 'prepared', 'pre', 'damn', 'shutdown', 'british', 'flour', 'ordered', 'nyc', 'complete', 'pass', 'boost', 'serve', 'dying', 'q', 'pantries', 'allowing', 'received', 'stress', 'study', 'output', 'leaders', 'immediately', 'sa', 'fun', 'ongoing', 'wipe', 'park', 'teachers', 'texas', 'doors', 'cnn', 'h', 'estate', 'eu', 'provided', 'site', 'late', 'solution', 'payment', 'combat', 'dad', 'florida', 'receive', 'additional', 'ventilators', 'catch', 'interest', 'treat', 'road', 'beer', 'fell', 'cover', 'immune', 'game', 'mobile', 'producing', 'moving', 'firms', 'average', 'affairs', 'meeting', 'behaviors', 'sorry', 'problems', 'account', 'creating', 'sharing', 'africa', 'treatment', 'medicine', 'disabled', 'ordering', 'quality', 'payments', 'pmoindia', 'toiletpaperapocalypse', 'perfect', 'ass', 'discuss', 'veg', 'tried', 'corporate', 'precautions', 'farm', 'pickup', 'capacity', 'reporting', 'crash', 'warehouse', 'agriculture', 'mum', 'sending', 'source', 'page', 'hiring', 'cope', 'experiencing', 'dog', 'affecting', 'drugs', 'management', 'address', 'ml', 'toronto', 'six', 'towards', 'clients', 'conditions', 'everybody', 'risking', 'mail', 'brought', 'view', 'analysis', 'negative', 'disinfectant', 'physical', 'hell', 'women', 'aid', 'pls', 'effort', 'idiots', 'claims', 'investors', 'kroger', 'necessities', 'dm', 'fill', 'nobody', 'benefit', 'traders', 'fine', 'australian', 'gift', 'planning', 'socialdistanacing', 'name', 'supposed', 'bills', 'humanity', 'course', 'carry', 'main', 'costco', 'slot', 'west', 'throughout', 'students', 'manage', 'losing', 'smart', 'emails', 'happened', 'international', 'explains', 'loo', 'charging', 'wondering', 'trust', 'zero', 'young', 'manufacturers', 'surrounding', 'professionals', 'feels', 'touching', 'center', 'lockdowns', 'guide', 'heart', 'spent', 'five', 'queuing', 'ft', 'event', 'cart', 'vs', 'series', 'spain', 'pantry', 'sectors', 'attorney', 'platform', 'pet', 'clothes', 'manager', 'gallon', 'son', 'stopstockpiling', 'piersmorgan', 'earlier', 'wouldn', 'wtf', 'virtual', 'percent', 'strategy', 'required', 'thread', 'owner', 'seem', 'limiting', 'population', 'stopped', 'shock', 'men', 'launched', 'official', 'dropping', 'shouldn', 'bringing', 'coronacrisisuk', 'wednesday', 'press', 'meanwhile', 'crowded', 'cars', 'personnel', 'council', 'north', 'child', 'indian', 'cleaners', 'challenge', 'choice', 'pricegouging', 'hits', 'vital', 'photo', 'panicshopping', 'airlines', 'retailer', 'purchasing', 'request', 'tuesday', 'oz', 'shout', 'arrested', 'plastic', 'anywhere', 'spot', 'spike', 'cant', 'affordable', 'expert', 'vaccine', 'helps', 'normally', 'electricity', 'signs', 'im', 'l', 'dollar', 'sainsbury', 'shelter', 'grow', 'hot', 'twitter', 'gives', 'hello', 'survival', 'movement', 'register', 'whilst', 'turning', 'above', 'respond', 'packages', 'charged', 'deep', 'sites', 'central', 'la', 'locations', 'word', 'form', 'crowds', 'puts', 'covidiots', 'reminder', 'coffee', 'staples', 'lysol', 'lose', 'protecting', 'coles', 'class', 'difference', 'flu', 'chaos', 'hire', 'finance', 'frozen', 'process', 'laid', 'picture', 'uncertain', 'looked', 'cooking', 'domestic', 'option', 'surgical', 'pakistan', 'checks', 'germs', 'playing', 'daughter', 'helpful', 'saturday', 'definitely', 'practices', 'providers', 'disgusting', 'totally', 'battle', 'tip', 'exposure', 'perhaps', 'neighbors', 'individuals', 'gave', 'parking', 'tissue', 'concern', 'stuck', 'streets', 'humans', 'packed', 'round', 'stockpile', 'google', 'trend', 'spring', 'loss', 'hungry', 'sweep', 'risks', 'humor', 'saving', 'cards', 'cdc', 'rationing', 'approved', 'includes', 'caught', 'sees', 'wuhan', 'thoughts', 'ticket', 'cities', 'complaints', 'remains', 'tells', 'points', 'safely', 'protections', 'events', 'hiked', 'germany', 'pricing', 'issued', 'responsible', 'curbside', 'stories', 'donated', 'directly', 'advertising', 'natural', 'asia', 'losses', 'meal', 'handle', 'wasn', 'joke', 'environment', 'quite', 'scary', 'rush', 'trolley', 'tough', 'offered', 'nd', 'beware', 'centre', 'flattenthecurve', 'washyourhands', 'hundreds', 'catching', 'rich', 'loans', 'staysafestayhome', 'restock', 'thru', 'ny', 'beans', 'ban', 'holiday', 'wholesale', 'sanitize', 'investment', 'results', 'extremely', 'attention', 'floor', 'logistics', 'technology', 'partner', 'ag', 'onlineshopping', 'funds', 'simply', 'shutting', 'spray', 'capital', 'coughed', 'talks', 'responding', 'hasn', 'proud', 'eye', 'woolworths', 'room', 'usually', 'publix', 'supplychain', 'refund', 'mostly', 'canadian', 'none', 'sports', 'systems', 'medicines', 'petition', 'decision', 'peak', 'wow', 'whatever', 'kenya', 'scientists', 'grab', 'actions', 'struggle', 'ur', 'ontario', 'okay', 'clearly', 'holding', 'prime', 'selfisolation', 'quarantined', 'pubs', 'mall', 'agreed', 'apply', 'causes', 'mouth', 'dangerous', 'enjoy', 'added', 'search', 'suffering', 'silver', 'chicago', 'basket', 'solutions', 'barrel', 'content', 'beef', 'reducing', 'episode', 'type', 'ill', 'model', 'britain', 'au', 'truly', 'miss', 'apps', 'encourage', 'knew', 'european', 'expectations', 'auspol', 'challenging', 'rapidly', 'ration', 'expensive', 'towels', 'immediate', 'began', 'patterns', 'outlook', 'flight', 'wide', 'considering', 'february', 'track', 'apocalypse', 'revenue', 'building', 'anti', 'greed', 'heading', 'apple', 'managing', 'exercise', 'claim', 'sanitizing', 'leadership', 'disaster', 'resource', 'facilities', 'discount', 'regularly', 'organizations', 'otherwise', 'posted', 'nose', 'glad', 'words', 'begin', 'turned', 'canned', 'provides', 'illegal', 'released', 'announcement', 'particularly', 'managed', 'ground', 'bars', 'hazard', 'charity', 'contain', 'unfortunately', 'yeah', 'mortgage', 'considered', 'faces', 'raised', 'joe', 'ends', 'pray', 'highly', 'climate', 'fees', 'opened', 'storm', 'agencies', 'surely', 'proper', 'capitalism', 'piling', 'statement', 'com', 'season', 'handling', 'loved', 'file', 'tracking', 'letter', 'program', 'shifting', 'knows', 'tweet', 'avoiding', 'chief', 'cents', 'weird', 'fixed', 'ministry', 'visiting', 'continued', 'unnecessary', 'warned', 'weather', 'france', 'stations', 'de', 'keeps', 'carts', 'severe', 'boris', 'significantly', 'starts', 'spoke', 'kept', 'kindly', 'download', 'wages', 'task', 'disruption', 'patient', 'bbc', 'rd', 'exorbitant', 'january', 'dedicated', 'bottom', 'v', 'cold', 'fellow', 'dry', 'absolute', 'popular', 'becoming', 'executive', 'donation', 'vaccines', 'killing', 'sister', 'packs', 'driver', 'ply', 'deals', 'pa', 'passed', 'awareness', 'beat', 'learning', 'multiple', 'fruits', 'adapt', 'network', 'surfaces', 'gel', 'education', 'availability', 'win', 'authorities', 'ship', 'loan', 'rely', 'administration', 'sky', 'surging', 'cannabis', 'bay', 'warns', 'sharp', 'eyes', 'afraid', 'friendly', 'impossible', 'majority', 'reading', 'anyway', 'safer', 'text', 'useful', 'urgent', 'helped', 'hearing', 'flights', 'rule', 'actual', 'walked', 'boxes', 'podcast', 'canadians', 'freeze', 'coronapocolypse', 'games', 'green', 'measure', 'commercial', 'director', 'washington', 'photos', 'music', 'minute', 'deadly', 'curfew', 'cool', 'trolleys', 'fish', 'corner', 'chinesevirus', 'push', 'remote', 'runs', 'writes', 'forcing', 'possibly', 'san', 'animal', 'role', 'careful', 'aldi', 'postal', 'east', 'plant', 'stockup', 'diy', 'noticed', 'student', 'kitchen', 'ya', 'closure', 'homemade', 'shared', 'ocado', 'indoors', 'speak', 'prevention', 'thankyou', 'section', 'ads', 'visits', 'bbcnews', 'pictures', 'quaratinelife', 'japan', 'auto', 'jump', 'red', 'videos', 'trader', 'kit', 'truckers', 'mar', 'nationwide', 'welcome', 'earth', 'picking', 'shall', 'mine', 'kills', 'movie', 'pushing', 'civil', 'dead', 'cutting', 'vegetable', 'mad', 'plunge', 'congress', 'fire', 'insight', 'laws', 'hospitality', 'build', 'bekind', 'dies', 'hopefully', 'contracting', 'collect', 'curb', 'luxury', 'doubled', 'regulations', 'grocers', 'drops', 'wave', 'reasons', 'authority', 'policies', 'thankful', 'history', 'union', 'gasoline', 'extreme', 'summer', 'johnson', 'viruses', 'bonus', 'paracetamol', 'straight', 'nj', 'opportunities', 'clerk', 'mr', 'forever', 'protected', 'michigan', 'utility', 'beauty', 'drink', 'practicing', 'evidence', 'counter', 'blame', 'easily', 'curve', 'reasonable', 'budget', 'tackle', 'cent', 'rural', 'urge', 'stepping', 'sanitation', 'ireland', 'ups', 'dc', 'stable', 'lockdownuk', 'various', 'continuing', 'executives', 'informed', 'focused', 'pub', 'interview', 'extended', 'partners', 'fox', 'sudden', 'delayed', 'trouble', 'index', 'sharply', 'developed', 'gop', 'shelterinplace', 'toward', 'sanitisers', 'alive', 'brother', 'entering', 'toll', 'transmission', 'kg', 'rapid', 'posting', 'firm', 'gear', 'groceryshopping', 'laugh', 'independent', 'workforce', 'operators', 'adding', 'failed', 'body', 'slowdown', 'links', 'church', 'pop', 'answers', 'cancel', 'hotels', 'sitting', 'held', 'range', 'potentially', 'distribute', 'hul', 'party', 'suffer', 'nz', 'serving', 'teams', 'although', 'shopper', 'abc', 'wanna', 'inventory', 'bar', 'madness', 'closes', 'liquor', 'art', 'fashion', 'opinion', 'interested', 'boss', 'acting', 'filling', 'army', 'suddenly', 'brilliant', 'foreign', 'exactly', 'lt', 'warn', 'cov', 'isolated', 'coping', 'ca', 'filled', 'complaint', 'excited', 'convenience', 'announces', 'evening', 'asset', 'iran', 'killed', 'region', 'highest', 'funding', 'midst', 'homeless', 'star', 'singapore', 'hopes', 'colleagues', 'officers', 'entertainment', 'egg', 'reduction', 'excessive', 'specific', 'choose', 'aldiuk', 'compared', 'release', 'university', 'netflix', 'enforcement', 'malaysia', 'third', 'location', 'ashamed', 'ad', 'mark', 'falls', 'club', 'sometimes', 'bloody', 'coronavirusindia', 'terms', 'creative', 'youtube', 'tears', 'coronaviruschallenge', 'bet', 'hero', 'marketers', 'bored', 'ease', 'responses', 'whose', 'charities', 'cat', 'desperate', 'activities', 'reveals', 'visited', 'similar', 'discusses', 'becomes', 'allegedly', 'dramatic', 'min', 'ice', 'disinfecting', 'ain', 'cheaper', 'tourism', 'legal', 'college', 'cheese', 'era', 'hate', 'slash', 'faster', 'professor', 'basically', 'covering', 'malls', 'gratitude', 'disruptions', 'economies', 'realize', 'learned', 'awesome', 'hair', 'globally', 'published', 'contract', 'soar', 'turns', 'guns', 'employment', 'adults', 'programs', 'urges', 'distillery', 'explain', 'hub', 'exploiting', 'knowing', 'hr', 'platforms', 'approach', 'plummeting', 'pharmacists', 'rental', 'forces', 'smaller', 'sort', 'exports', 'labor', 'finds', 'disinfect', 'crowd', 'session', 'excuse', 'plummet', 'attitudes', 'bleach', 'corn', 'gathering', 'covidiot', 'corvid', 'basis', 'households', 'carrying', 'pump', 'checking', 'skyrocketing', 'putin', 'suggest', 'comfort', 'taxes', 'drives', 'guard', 'code', 'charges', 'collection', 'skyrocket', 'scare', 'nations', 'cdcgov', 'stayhomechallenge', 'sugar', 'manchester', 'operating', 'transportation', 'channel', 'russian', 'plunging', 'futures', 'assist', 'uses', 'demands', 'parks', 'inflating', 'alternative', 'panicking', 'extortionate', 'hoping', 'websites', 'preparing', 'easier', 'dinner', 'mid', 'known', 'potatoes', 'harder', 'finances', 'urged', 'seconds', 'managers', 'letting', 'political', 'slump', 'carers', 'retweet', 'buys', 'monthly', 'itself', 'lets', 'volunteer', 'ability', 'association', 'los', 'afternoon', 'priorities', 'phishing', 'vote', 'uber', 'cook', 'dramatically', 'window', 'purchased', 'mission', 'announce', 'lows', 'coverage', 'economics', 'damage', 'gain', 'warehouses', 'refusing', 'switch', 'dollars', 'touched', 'parts', 'throw', 'stripped', 'movies', 'selfishness', 'german', 'facemask', 'bitcoin', 'board', 'stopthespread', 'devices', 'litre', 'diesel', 'saudiarabia', 'frequently', 'heb', 'navigate', 'existing', 'agricultural', 'king', 'launches', 'fewer', 'corporations', 'contest', 'anxious', 'treatments', 'understanding', 'ethanol', 'idiot', 'vendors', 'science', 'accounts', 'oott', 'smile', 'surprise', 'honestly', 'military', 'circumstances', 'figure', 'placed', 'moved', 'mckinsey', 'cos', 'cross', 'distilleries', 'stayhomestaysafe', 'lucky', 'trillion', 'ingredients', 'agency', 'condition', 'implications', 'recover', 'nofood', 'insane', 'un', 'trending', 'lately', 'briefing', 'categories', 'export', 'arrived', 'present', 'listed', 'basics', 'convid', 'importance', 'ceos', 'picked', 'books', 'reaching', 'usd', 'amounts', 'uklockdown', 'maga', 'potus', 'cattle', 'stopping', 'skynews', 'anymore', 'wrote', 'analyst', 'analysts', 'banking', 'lagos', 'carriers', 'fallout', 'coronavirusupdates', 'monitor', 'plz', 'campaign', 'plants', 'depression', 'factories', 'soup', 'gotta', 'responsibility', 'houses', 'scale', 'kindness', 'false', 'globe', 'animals', 'bn', 'missing', 'surprised', 'mode', 'realestate', 'covered', 'gun', 'thinks', 'standards', 'jack', 'monitoring', 'border', 'turkey', 'lining', 'position', 'suspend', 'morons', 'strict', 'paisley', 'cbc', 'metro', 'edition', 'garden', 'nygovcuomo', 'decisions', 'wheat', 'bacteria', 'broke', 'entry', 'mention', 'shutdowns', 'ran', 'crying', 'rose', 'bog', 'perspective', 'taste', 'gdp', 'messages', 'table', 'fridge', 'ghana', 'bankers', 'psa', 'appreciated', 'makers', 'neighborhood', 'remind', 'infections', 'economist', 'committed', 'crucial', 'icymi', 'hoax', 'hurt', 'takeout', 'doubt', 'maintaining', 'baskets', 'veggies', 'shown', 'nor', 'facemasks', 'coughs', 'dump', 'laundry', 'meme', 'viral', 'privacy', 'hrs', 'favorite', 'pizza', 'safeway', 'founder', 'scarce', 'wiped', 'fix', 'booming', 'individual', 'packaging', 'memes', 'yourselves', 'introduced', 'appears', 'stops', 'holidays', 'danger', 'initiative', 'innovation', 'snap', 'willing', 'overall', 'minimize', 'forecast', 'conference', 'certainly', 'bunch', 'raw', 'hotline', 'pennsylvania', 'express', 'whatsapp', 'count', 'brexit', 'nature', 'african', 'attack', 'load', 'final', 'slowing', 'sleep', 'bid', 'prior', 'western', 'chinavirus', 'french', 'comedy', 'distributors', 'freezer', 'stick', 'phase', 'sit', 'strange', 'experiences', 'seattle', 'failing', 'accept', 'lovely', 'tired', 'wonderful', 'abuse', 'aside', 'cream', 'wall', 'players', 'neighbours', 'reached', 'merchants', 'mental', 'et', 'permanent', 'addition', 'associates', 'previously', 'receiving', 'grocerystores', 'industrial', 'field', 'christmas', 'metres', 'victim', 'appreciation', 'yours', 'tickets', 'jersey', 'grocerystore', 'pets', 'ideas', 'drinking', 'refunds', 'john', 'steel', 'delay', 'houston', 'cleared', 'unsung', 'base', 'induced', 'garbage', 'surplus', 'england', 'project', 'breaks', 'reusable', 'illness', 'meaning', 'sneeze', 'locked', 'strain', 'poverty', 'al', 'loads', 'hoarded', 'facts', 'types', 'irresponsible', 'conversation', 'yo', 'chocolate', 'dubai', 'strategies', 'earnings', 'paycheck', 'precaution', 'decrease', 'rn', 'begun', 'centers', 'sydney', 'chloroquine', 'gotten', 'joined', 'surges', 'mins', 'ourselves', 'upon', 'usage', 'sun', 'soaring', 'constantly', 'cures', 'atm', 'girl', 'launch', 'crises', 'included', 'foot', 'lab', 'sadly', 'angry', 'invest', 'brad', 'steal', 'closer', 'refuse', 'flat', 'sensible', 'feeding', 'flying', 'claiming', 'streaming', 'poll', 'connect', 'democrats', 'stressful', 'trash', 'immunity', 'implement', 'previous', 'governors', 'storage', 'pork', 'secure', 'fallen', 'beverage', 'transit', 'users', 'rock', 'resilient', 'former', 'halt', 'trucks', 'blow', 'handwash', 'properly', 'officer', 'md', 'fever', 'brings', 'banned', 'exchange', 'lift', 'lunch', 'meant', 'responsibly', 'overnight', 'shoes', 'factory', 'staple', 'panicbuyers', 'version', 'evolving', 'uae', 'petroleum', 'sucks', 'ssupnow', 'bureau', 'fightcovid', 'operate', 'planet', 'clothing', 'valuable', 'dirty', 'cancellations', 'northern', 'valley', 'hitting', 'resulting', 'nytimes', 'covididiots', 'wiping', 'blue', 'suspect', 'leader', 'korea', 'kid', 'mumbai', 'aus', 'lidlgb', 'classes', 'emptying', 'inc', 'underlying', 'fmcg', 'j', 'duty', 'tank', 'restricted', 'widespread', 'threats', 'planned', 'purpose', 'quarter', 'setting', 'tea', 'perishable', 'obviously', 'investing', 'formula', 'bless', 'particular', 'posts', 'foodbanks', 'accelerate', 'max', 'materials', 'lidl', 'besides', 'hardest', 'senate', 'increasingly', 'yr', 'unemployed', 'starve', 'forbes', 'luck', 'discussion', 'advised', 'drinks', 'cbd', 'recipe', 'june', 'experienced', 'leads', 'rip', 'vouchers', 'fiscal', 'disposable', 'bailout', 'caring', 'discounts', 'pro', 'gatherings', 'expects', 'surface', 'heavily', 'hardship', 'village', 'fraudulent', 'listening', 'speed', 'insecurity', 'delays', 'reuters', 'combined', 'stressed', 'seek', 'slowly', 'weak', 'reaction', 'wholefoods', 'nowhere', 'blood', 'dumping', 'savings', 'comment', 'nigerians', 'exclusive', 'highlights', 'restocking', 'donald', 'projects', 'became', 'stupidity', 'comments', 'construction', 'alberta', 'excellent', 'attempt', 'downturn', 'layoffs', 'spirit', 'onto', 'twice', 'enforce', 'volume', 'politicians', 'shot', 'checked', 'urging', 'equity', 'initial', 'minnesota', 'standard', 'soaps', 'size', 'marketplace', 'shameful', 'firefighters', 'machine', 'fl', 'cares', 'quarentinelife', 'imposed', 'met', 'imports', 'reserve', 'feb', 'dining', 'butter', 'pushed', 'currency', 'slashed', 'scenes', 'steep', 'mayor', 'drastically', 'suspended', 'designed', 'incredible', 'papers', 'boom', 'wild', 'ignore', 'spitting', 'answered', 'bin', 'packaged', 'beautiful', 'foodbank', 'spare', 'tools', 'clearing', 'land', 'destroy', 'review', 'purell', 'dream', 'dogs', 'anybody', 'clorox', 'pr', 'collectors', 'radio', 'development', 'puzzle', 'calculator', 'worries', 'iraq', 'heartbreaking', 'volatility', 'cc', 'lowering', 'employers', 'horrible', 'clock', 'heavy', 'italian', 'lie', 'units', 'nielsen', 'developing', 'exploit', 'ai', 'miles', 'criminal', 'faith', 'antibacterial', 'explore', 'vigilant', 'training', 'denmark', 'missed', 'clubs', 'asks', 'booked', 'truth', 'gym', 'highlight', 'mandatory', 'predict', 'treated', 'lenders', 'lessons', 'assholes', 'direction', 'recipes', 'fault', 'dark', 'brave', 'reflect', 'wasted', 'ending', 'sells', 'realise', 'unilever', 'oilprice', 'district', 'sounds', 'lies', 'passes', 'opens', 'ohio', 'inflate', 'lockdowneffect', 'fit', 'ten', 'nursing', 'returns', 'welfare', 'persons', 'dozen', 'financially', 'illinois', 'emerging', 'suggests', 'connected', 'indiafightscorona', 'pull', 'channels', 'assets', 'demanding', 'signed', 'sources', 'bidet', 'communications', 'sound', 'finished', 'sars', 'writing', 'mini', 'dates', 'en', 'kinda', 'adapting', 'beach', 'downingstreet', 'dow', 'develop', 'closely', 'charmin', 'produced', 'somebody', 'asymptomatic', 'legislation', 'tons', 'trick', 'appear', 'colorado', 'pharmaceutical', 'postponed', 'seller', 'borders', 'shirt', 'temperature', 'wet', 'hysteria', 'react', 'skyrocketed', 'stayathomechallenge', 'dip', 'voice', 'comprehensive', 'processing', 'correct', 'dude', 'fb', 'hypermarket', 'birthday', 'chat', 'chances', 'chemicals', 'cats', 'michael', 'asap', 'shocking', 'treating', 'emptied', 'lending', 'closings', 'eligible', 'headed', 'rises', 'bigger', 'hang', 'suppose', 'provider', 'promise', 'sight', 'officially', 'shocked', 'thrown', 'implemented', 'citizen', 'crashing', 'opposite', 'cleaner', 'handles', 'crap', 'inevitable', 'stepped', 'faced', 'airline', 'starvation', 'ph', 'tho', 'entrance', 'frontlines', 'workfromhome', 'collapsing', 'na', 'expecting', 'groceryworkers', 'op', 'design', 'recommend', 'pace', 'routine', 'toiletries', 'prepper', 'unit', 'performance', 'prove', 'rude', 'morrison', 'tracker', 'tenants', 'needing', 'disinfectants', 'tinned', 'practical', 'meds', 'appeal', 'disappointed', 'licking', 'hikes', 'bitch', 'screen', 'mitigate', 'examples', 'employed', 'mexico', 'historic', 'meter', 'arizona', 'jesus', 'lowered', 'sufficient', 'recommendations', 'requires', 'gap', 'giveawayalert', 'offices', 'diet', 'status', 'category', 'bathroom', 'province', 'david', 'angeles', 'vancouver', 'adjusting', 'unique', 'grade', 'infrastructure', 'chill', 'division', 'lesson', 'instacart', 'needy', 'massachusetts', 'active', 'operation', 'roof', 'oversupply', 'considerate', 'declining', 'airport', 'pause', 'unlikely', 'bastards', 'maximum', 'constant', 'ensuring', 'guardian', 'boycott', 'earn', 'actors', 'socially', 'convenient', 'medicare', 'fraudsters', 'prefer', 'distributed', 'gavinnewsom', 'thats', 'flowers', 'poultry', 'walks', 'coronaoutbreak', 'engage', 'heads', 'ended', 'vegan', 'electric', 'gmb', 'spikes', 'brick', 'tune', 'australians', 'transactions', 'adequate', 'ignoring', 'famous', 'discounted', 'owned', 'diagnosed', 'discover', 'excess', 'proof', 'switching', 'scheduled', 'sundaythoughts', 'foxnews', 'contribute', 'effectively', 'flipkart', 'jumped', 'producer', 'electronics', 'consequences', 'awful', 'pocket', 'jacking', 'canon', 'psychology', 'father', 'reserves', 'researchers', 'ma', 'panel', 'zealand', 'unexpected', 'respiratory', 'fail', 'coronaviruslockdownuk', 'coronapocalypse', 'involved', 'stage', 'farms', 'promote', 'rescue', 'fee', 'scarcity', 'stripping', 'tiktok', 'passing', 'teens', 'potato', 'prescription', 'selfquarantine', 'overwhelming', 'ammo', 'bans', 'zoom', 'passengers', 'smh', 'cnbc', 'sh', 'turbo', 'locally', 'oman', 'stayhealthy', 'deliberately', 'meters', 'write', 'bakery', 'utilities', 'web', 'indeed', 'relevant', 'evil', 'miami', 'mart', 'ramping', 'soars', 'panicked', 'steady', 'freedom', 'hotel', 'improve', 'rushing', 'mess', 'janitors', 'freezers', 'medications', 'cans', 'joining', 'respirators', 'controlled', 'pics', 'flow', 'wore', 'ffs', 'breathing', 'panickbuying', 'spirits', 'declined', 'kong', 'threatening', 'wfh', 'broken', 'quantities', 'solidarity', 'juice', 'unlike', 'schedule', 'da', 'instructions', 'require', 'skin', 'toiletpaperemergency', 'roads', 'neighbour', 'attendants', 'behaviours', 'hunt', 'organisations', 'modi', 'multi', 'watched', 'matthancock', 'tool', 'complaining', 'spotted', 'crore', 'relying', 'saved', 'encouraging', 'balance', 'desperation', 'granted', 'yall', 'urgently', 'suggestions', 'stealing', 'org', 'profiting', 'contactless', 'handy', 'advocates', 'preventing', 'salary', 'seafood', 'sarscov', 'returned', 'coronavirusaustralia', 'pile', 'plummeted', 'organization', 'nervous', 'justice', 'nearest', 'chemist', 'winning', 'largely', 'ride', 'reporter', 'nba', 'style', 'realized', 'contracted', 'race', 'takeaway', 'somewhere', 'tissues', 'accused', 'triple', 'victims', 'tx', 'farming', 'regional', 'obvious', 'nhsuk', 'tirelessly', 'emptyshelves', 'therefore', 'ramp', 'cuomo', 'crime', 'unfair', 'whenever', 'secretary', 'precautionary', 'foundation', 'sake', 'built', 'contracts', 'success', 'handwashing', 'premier', 'investments', 'outrageous', 'hindustan', 'pharma', 'failure', 'train', 'observe', 'encouraged', 'southafrica', 'matters', 'contamination', 'cuz', 'guards', 'coronavirusoutbreakindia', 'genius', 'bio', 'cloth', 'neighbor', 'coronavid', 'gallons', 'image', 'upcoming', 'barely', 'wealth', 'shifted', 'collective', 'pic', 'begins', 'hong', 'folk', 'socialdistance', 'disrupted', 'ie', 'lying', 'uganda', 'republicans', 'plague', 'asthma', 'extend', 'whoever', 'eventually', 'notes', 'flatten', 'listings', 'socialism', 'sneezing', 'election', 'genuinely', 'court', 'towel', 'showed', 'exhausted', 'profiteers', 'farmer', 'cpg', 'peace', 'contributing', 'preparation', 'shape', 'bullshit', 'btw', 'dept', 'msnbc', 'distributing', 'oilprices', 'exposing', 'gather', 'regulatory', 'culture', 'annual', 'badly', 'lasting', 'cdnpoli', 'terrible', 'medication', 'maryland', 'drastic', 'stockpilinguk', 'stayathomesavelives', 'communication', 'arrest', 'appropriate', 'commissioner', 'nearby', 'fields', 'scenario', 'nashville', 'snacks', 'quiet', 'unrest', 'risen', 'raises', 'figures', 'venture', 'elsewhere', 'personally', 'stockmarket', 'remove', 'allows', 'behave', 'wisconsin', 'confused', 'soft', 'fyi', 'cap', 'speaks', 'analytics', 'recommends', 'agreement', 'gasprices', 'stronger', 'dealers', 'golf', 'infect', 'esp', 'football', 'theres', 'fined', 'honest', 'bubble', 'plea', 'whitehouse', 'salute', 'essentialworkers', 'forgot', 'coast', 'mood', 'overtime', 'traditional', 'adjust', 'incomes', 'outlets', 'dumb', 'breath', 'predicted', 'canceled', 'suggested', 'powerful', 'restocked', 'mile', 'thailand', 'declines', 'rally', 'mentioned', 'moves', 'zone', 'carbon', 'vehicles', 'linked', 'shoot', 'crypto', 'fines', 'neither', 'qatar', 'peoples', 'gains', 'strongly', 'id', 'utter', 'cake', 'surged', 'takeaways', 'medium', 'screens', 'politics', 'mixed', 'accepting', 'zombie', 'grows', 'assume', 'arrive', 'automotive', 'chart', 'views', 'thermometers', 'curious', 'shoprite', 'giants', 'complain', 'quit', 'bright', 'wise', 'crop', 'isle', 'bushcraft', 'hosting', 'slightly', 'worrying', 'liquidity', 'brooklyn', 'lng', 'severely', 'decide', 'factors', 'mainly', 'attacks', 'diseases', 'stockpiled', 'norm', 'lists', 'teenagers', 'original', 'proven', 'newsletter', 'scene', 'coupled', 'generation', 'bailouts', 'landlords', 'trumpvirus', 'witnessed', 'ignorant', 'fights', 'merkel', 'shopkeepers', 'commissions', 'reopen', 'gluten', 'recommended', 'buyer', 'rid', 'orange', 'scott', 'bidding', 'seeds', 'sweet', 'oilpricewar', 'designated', 'racism', 'toiletpaperchallenge', 'decent', 'importantly', 'tills', 'misinformation', 'handed', 'impose', 'estimated', 'investigation', 'sat', 'crashed', 'assure', 'biz', 'repost', 'dutch', 'fao', 'sanctions', 'collapsed', 'terrified', 'battling', 'compromised', 'identified', 'lied', 'las', 'remaining', 'fixing', 'returning', 'keyworkers', 'leaves', 'advise', 'applied', 'wholesalers', 'incredibly', 'knowledge', 'danish', 'nutrition', 'bargain', 'sink', 'mining', 'expose', 'ex', 'employer', 'universal', 'coronavirusmemes', 'hurts', 'noon', 'findings', 'labour', 'affects', 'forgotten', 'strategic', 'attend', 'situations', 'thus', 'booze', 'emotional', 'professional', 'associated', 'uptick', 'prison', 'liquid', 'machines', 'parent', 'depend', 'snapshot', 'software', 'ambulance', 'mp', 'announcing', 'supplying', 'values', 'landscape', 'supported', 'stamps', 'pleased', 'choices', 'revenues', 'actively', 'mortar', 'nope', 'modern', 'filed', 'followed', 'operational', 'flies', 'plunged', 'supplier', 'devastating', 'workingfromhome', 'brown', 'film', 'institutions', 'coronavirusaus', 'stockers', 'wealthy', 'surviving', 'outbreaks', 'supplied', 'throwing', 'phones', 'senator', 'dozens', 'permanently', 'iceland', 'parties', 'shocks', 'rubbing', 'hill', 'godrej', 'priced', 'preferences', 'schemes', 'childcare', 'ton', 'uv', 'lettuce', 'finish', 'organic', 'ke', 'tiny', 'artists', 'dallas', 'toiletroll', 'metal', 'tokyo', 'tag', 'commitment', 'recorded', 'enable', 'corp', 'client', 'maker', 'stolen', 'wsj', 'doorstep', 'lived', 'slashing', 'rob', 'pulling', 'daylockdown', 'bbb', 'labs', 'random', 'airborne', 'pc', 'tariffs', 'shoplocal', 'square', 'boy', 'riots', 'qualify', 'committee', 'couples', 'shower', 'somehow', 'em', 'deck', 'amongst', 'facility', 'locals', 'shield', 'budgets', 'stood', 'bs', 'cute', 'grip', 'releases', 'vegas', 'sam', 'institute', 'acts', 'que', 'weren', 'parcels', 'portal', 'joy', 'host', 'francisco', 'suit', 'triggered', 'handing', 'cleaned', 'wars', 'solve', 'disgraceful', 'pieces', 'downward', 'spaces', 'cancellation', 'drone', 'warnings', 'harvest', 'rebound', 'rough', 'gb', 'song', 'fans', 'diabetes', 'stackers', 'boston', 'brent', 'seven', 'mix', 'complex', 'expanded', 'confirms', 'icu', 'startup', 'calpol', 'besafe', 'aim', 'overcome', 'shipments', 'baking', 'ward', 'premium', 'delhi', 'severity', 'overseas', 'regime', 'ps', 'talked', 'unnecessarily', 'containment', 'assured', 'material', 'habit', 'ikea', 'paramedics', 'bosses', 'bottled', 'tom', 'hollywood', 'wti', 'ccp', 'clue', 'trained', 'harm', 'freaking', 'tweets', 'omg', 'abt', 'cry', 'powers', 'useless', 'boosting', 'rooms', 'nigerian', 'jeff', 'wells', 'cell', 'icis', 'island', 'instagram', 'rations', 'deemed', 'adult', 'declared', 'prank', 'pure', 'computer', 'james', 'preparedness', 'wuhanvirus', 'volatile', 'cupboards', 'discussing', 'reveal', 'permitted', 'identify', 'postpone', 'fastest', 'intentionally', 'barrels', 'richard', 'removed', 'fabric', 'jones', 'carrier', 'searching', 'rare', 'repeat', 'courtesy', 'covi', 'pain', 'se', 'apr', 'chemical', 'intelligence', 'armed', 'refused', 'el', 'blocking', 'le', 'ford', 'corrupt', 'baked', 'dan', 'govmurphy', 'recovered', 'van', 'chairman', 'gamestop', 'despicable', 'discovered', 'decade', 'kenyans', 'prayers', 'loaf', 'cyber', 'cruise', 'george', 'scheme', 'collected', 'wont', 'babies', 'capped', 'combination', 'youth', 'ap', 'joins', 'noodles', 'reacting', 'agents', 'looting', 'moratorium', 'overwhelmed', 'hubs', 'finland', 'dive', 'print', 'rubber', 'imported', 'pound', 'texts', 'stabilize', 'saudis', 'hardware', 'remotely', 'focusing', 'inform', 'greatly', 'registers', 'urban', 'bail', 'locusts', 'manufacturer', 'consume', 'requirements', 'relating', 'justintrudeau', 'greatest', 'sticks', 'sub', 'featuring', 'sparks', 'likes', 'strike', 'starbucks', 'generally', 'route', 'senators', 'implementing', 'possibility', 'jail', 'physicaldistancing', 'emerge', 'followers', 'hedge', 'defense', 'tap', 'resist', 'odd', 'oregon', 'stability', 'joint', 'responded', 'eats', 'accurate', 'advance', 'bear', 'written', 'sea', 'crops', 'tweeted', 'lockdownnow', 'connection', 'bankruptcy', 'upset', 'breweries', 'infectious', 'downtown', 'entered', 'copper', 'hole', 'images', 'telehealth', 'resulted', 'speakerpelosi', 'booking', 'relax', 'correction', 'destruction', 'billions', 'shoutout', 'depressed', 'mo', 'yoy', 'coronavirusnewyork', 'fridaythoughts', 'havoc', 'articles', 'headlines', 'bounce', 'proposed', 'praise', 'pledges', 'tumble', 'disgusted', 'centres', 'fema', 'austin', 'foodsecurity', 'manufacture', 'larger', 'expand', 'quarantinediaries', 'branch', 'approve', 'prop', 'hardly', 'racist', 'comply', 'reply', 'sheets', 'revealed', 'regulate', 'stayed', 'pregnant', 'boys', 'digitalmarketing', 'enforcing', 'enforced', 'expenses', 'allergies', 'speaking', 'ignored', 'regards', 'bust', 'vp', 'pair', 'telephone', 'telegraph', 'thanked', 'grown', 'consideration', 'eight', 'trigger', 'spanish', 'specifically', 'apartment', 'immunocompromised', 'statewide', 'fascinating', 'decades', 'cancer', 'wellness', 'hardships', 'crowding', 'creates', 'threatens', 'housewares', 'exist', 'kicked', 'bcg', 'z', 'risky', 'publichealth', 'partnership', 'tape', 'classified', 'sparked', 'strength', 'decreased', 'launching', 'californians', 'fantastic', 'jokes', 'attempting', 'banning', 'pounds', 'suits', 'birx', 'adjusted', 'elections', 'hyderabad', 'jobless', 'prep', 'guarantee', 'eastern', 'block', 'listing', 'contaminated', 'nonprofit', 'introducing', 'cautious', 'residential', 'dress', 'baker', 'associate', 'boredom', 'territory', 'ar', 'primary', 'iphone', 'bogus', 'wanting', 'lifted', 'edge', 'corruption', 'missouri', 'masses', 'virtually', 'jan', 'skills', 'map', 'pumps', 'towns', 'highs', 'paul', 'combating', 'contacted', 'strangers', 'row', 'insurers', 'toys', 'contains', 'stays', 'proceeds', 'necessity', 'vodafone', 'nonsense', 'relatively', 'anticipate', 'breakfast', 'hall', 'eg', 'sets', 'instant', 'tearful', 'reliance', 'smell', 'chemists', 'breakdown', 'dey', 'ultimate', 'rona', 'hydroxychloroquine', 'allah', 'drharshvardhan', 'hurting', 'alternatives', 'ventilator', 'counters', 'successful', 'survived', 'minds', 'himself', 'concept', 'grains', 'speech', 'endless', 'offset', 'ladies', 'scotland', 'packet', 'aerosol', 'favourite', 'frenzy', 'additive', 'pandemics', 'vehicle', 'kantar', 'roughly', 'selfisolating', 'droplets', 'moments', 'packets', 'endure', 'homeworld', 'watchdog', 'pulse', 'struck', 'cashapp', 'marksandspencer', 'trains', 'rents', 'popped', 'involving', 'millennials', 'perfume', 'letters', 'procedures', 'temperatures', 'kudos', 'georgia', 'voting', 'cloud', 'temp', 'suspension', 'voucher', 'signing', 'procurement', 'compare', 'aloe', 'telecom', 'prompted', 'stuffs', 'hunting', 'covidcanada', 'burden', 'confirm', 'fishing', 'corporation', 'patience', 'karma', 'cartoon', 'neighbourhood', 'paranoid', 'dawn', 'lottery', 'aftermath', 'loading', 'thrive', 'highlighting', 'shopped', 'coordinator', 'empathy', 'wasting', 'indoor', 'played', 'statistics', 'tripled', 'misleading', 'londonlockdown', 'hoarder', 'metals', 'celebrities', 'celebrate', 'disrupt', 'slashes', 'silly', 'fuels', 'virginia', 'blessed', 'precious', 'semi', 'salt', 'attitude', 'struggles', 'garage', 'depot', 'dividend', 'mortgages', 'whom', 'sauce', 'midnight', 'donates', 'teach', 'laughing', 'innovative', 'deposit', 'bjp', 'hurry', 'ed', 'behaving', 'exciting', 'kingdom', 'kr', 'pays', 'environmental', 'hadn', 'spit', 'studies', 'peter', 'wellbeing', 'capitalist', 'topics', 'targeted', 'thermometer', 'introduce', 'restriction', 'subscription', 'bonds', 'coronav', 'net', 'reserved', 'quarantineandchill', 'fiji', 'mike', 'requests', 'hide', 'lifeline', 'proposal', 'indefinitely', 'compete', 'methods', 'shuttered', 'enemy', 'unbelievable', 'cx', 'applies', 'glasses', 'summary', 'prey', 'covers', 'contagion', 'criminals', 'furniture', 'surveys', 'weight', 'conducted', 'names', 'knock', 'paint', 'lowe', 'suspending', 'winter', 'passover', 'asshole', 'iowa', 'lay', 'extending', 'melbourne', 'numerous', 'toiletpapergate', 'bell', 'rwanda', 'wedding', 'robust', 'royal', 'scrubs', 'poop', 'coz', 'comics', 'mindset', 'est', 'shipment', 'topic', 'submit', 'accessible', 'firearms', 'restrict', 'guaranteed', 'lingers', 'caps', 'singing', 'buses', 'custom', 'reduces', 'arms', 'cycle', 'provision', 'economists', 'dance', 'seeking', 'usda', 'flexible', 'barriers', 'inthistogether', 'extends', 'bed', 'containers', 'finger', 'brits', 'explained', 'recognize', 'promised', 'estimates', 'metre', 'provisions', 'herd', 'traveling', 'exceed', 'pollution', 'dust', 'ultimately', 'doubling', 'entirely', 'eliminate', 'humble', 'junk', 'oklahoma', 'lockdownuknow', 'tactics', 'ug', 'intended', 'bike', 'seemed', 'israel', 'interact', 'regardless', 'taxi', 'destroyed', 'suggestion', 'foodshortages', 'queueing', 'issuing', 'influence', 'fauci', 'grandparents', 'investigate', 'physically', 'observed', 'starving', 'gate', 'achieve', 'peeps', 'reportedly', 'properties', 'vitamin', 'safeguard', 'zimbabwe', 'controls', 'skip', 'disability', 'follows', 'ignorance', 'chips', 'con', 'fingers', 'vodafoneuk', 'remained', 'regions', 'reminds', 'angela', 'guilty', 'quote', 'venezuela', 'compensation', 'sanitary', 'investor', 'match', 'camera', 'mondaymotivation', 'delicious', 'cheers', 'albertsons', 'publicly', 'unavailable', 'menu', 'requesting', 'shields', 'coal', 'wherever', 'foodstuffs', 'spar', 'bonuses', 'enhanced', 'strictly', 'skyuk', 'hygienic', 'crudeoil', 'roundtable', 'aka', 'vacation', 'atlanta', 'sacrifice', 'transfer', 'wegmans', 'difficulties', 'kagutamuseveni', 'tim', 'societies', 'atleast', 'tins', 'stacking', 'vast', 'scrambling', 'plexiglass', 'fcc', 'vermont', 'andrew', 'competitive', 'journalists', 'soldiers', 'misery', 'helpers', 'hiding', 'counties', 'effected', 'ji', 'certified', 'sustainable', 'ripping', 'abused', 'respected', 'equivalent', 'monetary', 'tuned', 'resident', 'models', 'photography', 'extension', 'indians', 'caution', 'subject', 'discretionary', 'aged', 'recipients', 'optimistic', 'rolling', 'lorry', 'piled', 'craft', 'malaria', 'covidindia', 'prioritize', 'copy', 'educate', 'seeks', 'newnormal', 'suspected', 'williams', 'heightened', 'context', 'collecting', 'holders', 'swear', 'beds', 'pos', 'hilarious', 'newyork', 'tipping', 'bond', 'logic', 'bacterial', 'throat', 'ho', 'hording', 'fr', 'btc', 'smith', 'quantity', 'guessing', 'cashing', 'chatting', 'arm', 'path', 'insider', 'addressing', 'loblaws', 'turmoil', 'surreal', 'cr', 'terrifying', 'lowes', 'appointment', 'processors', 'kentucky', 'infecting', 'blocked', 'targeting', 'vitamins', 'volumes', 'believes', 'career', 'score', 'refrain', 'strained', 'variety', 'meats', 'arvindkejriwal', 'proactive', 'courier', 'switched', 'lakh', 'impressed', 'matt', 'ethical', 'percentage', 'located', 'jordan', 'license', 'examines', 'kinds', 'mild', 'mindful', 'flood', 'vodka', 'somewhat', 'cryptocurrency', 'select', 'spots', 'display', 'migrant', 'shuts', 'walgreens', 'exclusively', 'containing', 'unknown', 'afloat', 'preventive', 'tries', 'churches', 'billionaires', 'parcel', 'scottmorrisonmp', 'weed', 'applications', 'olympics', 'immigrants', 'generous', 'bound', 'plummets', 'grain', 'broadband', 'stockpilers', 'factor', 'thinkwithgoogle', 'dire', 'interaction', 'drones', 'marked', 'theaters', 'collaboration', 'goal', 'pissed', 'sustainability', 'wks', 'pressures', 'gen', 'jason', 'wednesdaythoughts', 'cm', 'cfpb', 'govuk', 'robocalls', 'growers', 'confinement', 'ring', 'luckily', 'muslim', 'oflockdown', 'voted', 'chris', 'campus', 'overheard', 'apparel', 'theft', 'impending', 'port', 'dem', 'surveyed', 'december', 'mcdonald', 'solid', 'runwalofficial', 'trusted', 'representing', 'lmao', 'alerts', 'feedback', 'butchers', 'tight', 'messaging', 'nzherald', 'petrochemical', 'crush', 'kag', 'rightly', 'desperately', 'quarantines', 'offline', 'fargo', 'kn', 'marking', 'ample', 'confusion', 'cafe', 'taught', 'pacific', 'gaming', 'isnt', 'onion', 'intervention', 'pricegougers', 'fm', 'forum', 'saturdaymorning', 'resilience', 'drove', 'coronavirusau', 'seed', 'asdaserviceteam', 'holy', 'stranger', 'blows', 'retailnews', 'alot', 'relaxed', 'produces', 'player', 'startups', 'supports', 'massively', 'optimism', 'enjoying', 'fucked', 'exempt', 'ideal', 'fat', 'exception', 'serves', 'extraordinary', 'ufcw', 'repair', 'english', 'mohfw', 'exact', 'expands', 'karen', 'odisha', 'grew', 'contagious', 'ashley', 'railways', 'accc', 'disabilities', 'assess', 'scramble', 'inspired', 'artist', 'compliance', 'lifestyle', 'campaigns', 'sooner', 'kick', 'louis', 'pensioners', 'layer', 'nine', 'foreseeable', 'birds', 'rbi', 'differently', 'drawing', 'gulf', 'glut', 'adds', 'stats', 'winner', 'coronamemes', 'compiled', 'reliable', 'stands', 'fly', 'livestock', 'explaining', 'shelters', 'jacked', 'coronavirusinpakistan', 'chair', 'yrs', 'bracing', 'highlighted', 'lbs', 'absurd', 'stating', 'glass', 'thanking', 'grocer', 'frustrating', 'aimed', 'circle', 'mobility', 'entitled', 'roles', 'advising', 'positions', 'dwindling', 'heros', 'kimberly', 'band', 'nuts', 'carolina', 'coupons', 'aoc', 'fuckin', 'thursdaythoughts', 'thankfully', 'fracking', 'honor', 'queensland', 'countless', 'ounce', 'lonely', 'perfectly', 'relationship', 'populations', 'deeply', 'smoke', 'margins', 'dangers', 'separate', 'praying', 'safest', 'buck', 'horror', 'accelerated', 'evictions', 'fortunate', 'regulated', 'escape', 'annoying', 'hashtag', 'surprising', 'newly', 'sickness', 'losangeles', 'sanity', 'interactive', 'reminding', 'diary', 'hourly', 'hence', 'countdown', 'updating', 'deserved', 'kenyan', 'visitors', 'cops', 'install', 'stalls', 'til', 'ginger', 'salaries', 'villages', 'competing', 'argos', 'wk', 'nsw', 'cafes', 'announcements', 'recovering', 'sp', 'windows', 'feelings', 'sen', 'gowns', 'disturbing', 'nhsworkers', 'disney', 'aussie', 'pumping', 'alongside', 'zombies', 'admit', 'seasonal', 'yeast', 'initiatives', 'nightmare', 'solved', 'journey', 'handled', 'agent', 'va', 'mondaythoughts', 'preppers', 'relative', 'saferathome', 'supportlocal', 'registered', 'dis', 'expanding', 'huh', 'rethink', 'compassion', 'application', 'chancellor', 'washingtonpost', 'contribution', 'emarketer', 'alex', 'sanitized', 'incl', 'shale', 'colleague', 'swiss', 'adventure', 'portfolio', 'berlin', 'designs', 'exploitation', 'regulators', 'requested', 'proving', 'establishments', 'unlimited', 'doug', 'ball', 'netherlands', 'beaches', 'navigating', 'conspiracy', 'pockets', 'cmomaharashtra', 'rain', 'nhsheroes', 'dick', 'terror', 'mbs', 'determined', 'lifetime', 'halted', 'pants', 'waive', 'indiana', 'checkouts', 'database', 'travelling', 'deli', 'whiskey', 'hurricane', 'lick', 'randomly', 'gp', 'coronaalert', 'declare', 'woods', 'cybersecurity', 'desk', 'deeper', 'terroristic', 'nike', 'bernie', 'minimal', 'fulfill', 'downs', 'pathetic', 'whats', 'developments', 'unsafe', 'difficulty', 'fueled', 'declaration', 'influx', 'wic', 'egypt', 'keyworker', 'charts', 'tin', 'sensitive', 'younger', 'spx', 'october', 'regulation', 'pivot', 'freight', 'responds', 'approximately', 'gyms', 'pres', 'particles', 'addiction', 'served', 'ugly', 'lockdownextension', 'labels', 'prof', 'shake', 'cancelling', 'farmworkers', 'jeffbezos', 'haha', 'queens', 'rome', 'delivers', 'nail', 'scum', 'employ', 'cleanliness', 'suggesting', 'venmo', 'martin', 'ripple', 'outdoor', 'refuses', 'brain', 'assistants', 'engaging', 'spree', 'microsoft', 'fairly', 'dispute', 'upper', 'loyalty', 'adhere', 'transaction', 'deadline', 'bt', 'socialmedia', 'shaw', 'beast', 'screw', 'plain', 'moody', 'goals', 'engaged', 'bacon', 'loving', 'lawmakers', 'conduct', 'timing', 'poetry', 'violence', 'minimise', 'emergencies', 'loose', 'cigarettes', 'patel', 'khan', 'toxic', 'acceptable', 'appliances', 'boots', 'er', 'soul', 'facilitate', 'screening', 'acted', 'socal', 'method', 'efficient', 'prompts', 'pension', 'scarf', 'woolies', 'threaten', 'safetyfirst', 'wing', 'ppes', 'glove', 'stranded', 'golden', 'berniesanders', 'ottawa', 'fragile', 'handsanitizers', 'meetings', 'cooks', 'bandana', 'bbcbreakfast', 'pulled', 'fossil', 'yep', 'recruiting', 'tonnes', 'toilets', 'agri', 'foodservice', 'upends', 'joebiden', 'benchmark', 'bananas', 'licenses', 'gifts', 'whammy', 'device', 'ts', 'attached', 'shareholders', 'rolled', 'frontliners', 'networks', 'atta', 'confident', 'ethics', 'incident', 'accelerating', 'ing', 'observing', 'ordinary', 'clap', 'selected', 'thresholds', 'carefully', 'secret', 'mankind', 'chickens', 'mentalhealth', 'wheels', 'rot', 'investigating', 'function', 'replenish', 'classed', 'skilled', 'workplace', 'britons', 'mrx', 'sketch', 'grant', 'argue', 'senatemajldr', 'hackers', 'crossing', 'upside', 'sc', 'television', 'reopening', 'judge', 'errands', 'advisory', 'dependent', 'texans', 'interviewed', 'selection', 'telemedicine', 'alleviate', 'shaped', 'practising', 'sizes', 'isles', 'filter', 'consistent', 'vr', 'behalf', 'cbs', 'foodwaste', 'polite', 'realised', 'ct', 'settle', 'cre', 'forecasts', 'threatened', 'clinic', 'vegetarian', 'athletes', 'tremendous', 'maintenance', 'earned', 'admin', 'sheep', 'opt', 'dish', 'wa', 'ww', 'behavioral', 'anytime', 'pipeline', 'thousand', 'grants', 'despair', 'governance', 'therapy', 'prosecuted', 'ukraine', 'coop', 'ck', 'coronalockdown', 'chopped', 'slowed', 'hug', 'mounting', 'yelled', 'hosted', 'unacceptable', 'arrows', 'fordnation', 'typically', 'flooding', 'lord', 'segment', 'popping', 'drugstore', 'assistant', 'pot', 'dailymailuk', 'worldhealthday', 'afghanistan', 'aldiaustralia', 'improvement', 'onset', 'contestalert', 'sf', 'sunshine', 'genomics', 'transparency', 'reference', 'blowing', 'inner', 'ng', 'coronauk', 'workout', 'adhering', 'laptops', 'promoting', 'eaten', 'fan', 'pledge', 'seo', 'instructed', 'waiving', 'arseholes', 'hugely', 'ingredient', 'judging', 'harmful', 'fearful', 'sneezes', 'cleveland', 'feature', 'blaming', 'routes', 'fails', 'gang', 'haul', 'trials', 'processes', 'fishermen', 'robot', 'shoulder', 'slide', 'denied', 'ministers', 'dettol', 'tata', 'assessment', 'installed', 'leilani', 'discussed', 'butcher', 'tube', 'specially', 'predictions', 'staythefhome', 'aids', 'dumped', 'consumerbehavior', 'prospect', 'bins', 'vietnam', 'sheet', 'shaming', 'bout', 'alphabet', 'widely', 'aims', 'infographic', 'protein', 'sought', 'extent', 'evolve', 'crooks', 'import', 'inputs', 'entrepreneur', 'woke', 'warm', 'immigrant', 'arguing', 'expired', 'smallbusiness', 'tuna', 'looroll', 'reassure', 'pushes', 'panicbuy', 'unions', 'stem', 'decreases', 'herself', 'projected', 'gin', 'debit', 'generations', 'user', 'sobeys', 'leisure', 'bookings', 'nhsstaff', 'bradpaisley', 'estimate', 'guest', 'girls', 'records', 'dayslockdown', 'latter', 'nutritious', 'editor', 'ba', 'thin', 'ours', 'retailworkers', 'opposition', 'removing', 'pointing', 'loyal', 'enters', 'membership', 'spy', 'stash', 'relieve', 'applaud', 'irony', 'interactions', 'commit', 'onpoli', 'struggled', 'explode', 'nights', 'necessarily', 'alright', 'aggressive', 'artificial', 'elbow', 'owns', 'alarming', 'revolution', 'marketcrash', 'victoria', 'noticing', 'cunts', 'cbsnews', 'arab', 'fakenews', 'ukgoverment', 'pivoting', 'deficit', 'treats', 'fired', 'floridians', 'bleak', 'gaza', 'cheapest', 'wh', 'color', 'candy', 'uncertainties', 'plunges', 'proves', 'nhscovidheroes', 'proximity', 'blockchain', 'successfully', 'transmitted', 'explores', 'wallstreet', 'bastard', 'comfortable', 'alonetogether', 'cabinet', 'typical', 'disappear', 'centric', 'goodness', 'tables', 'negatively', 'intensifies', 'appalling', 'overcharging', 'wallet', 'alike', 'depth', 'sample', 'smartphone', 'rumours', 'apparent', 'disgrace', 'diamond', 'debate', 'piss', 'substitute', 'spoken', 'hanging', 'susceptible', 'obesity', 'privilege', 'cvs', 'downside', 'masked', 'shooting', 'coronavirusinsa', 'nc', 'processed', 'hint', 'roundup', 'parliament', 'forex', 'predicts', 'unite', 'comic', 'language', 'engagement', 'usps', 'approval', 'replace', 'rx', 'directed', 'trollies', 'med', 'steve', 'appealing', 'cmagovuk', 'curtail', 'tweeting', 'snack', 'addressed', 'spam', 'altered', 'owing', 'pelosi', 'tree', 'greece', 'mifi', 'milkman', 'assures', 'log', 'economically', 'pt', 'pulte', 'strip', 'breathe', 'penalties', 'nyse', 'shell', 'enormous', 'wi', 'century', 'bodies', 'goi', 'frightening', 'shipped', 'headquarters', 'fucks', 'latex', 'corps', 'vice', 'allocated', 'cereal', 'tragedy', 'majeure', 'quebec', 'earning', 'fool', 'occurred', 'nasty', 'named', 'nappies', 'hats', 'suburban', 'cooperation', 'tuesdaythoughts', 'merchandise', 'occupancy', 'reward', 'carried', 'breakingnews', 'labourers', 'damaged', 'supplements', 'chose', 'buildings', 'bits', 'notification', 'tackling', 'mac', 'obligations', 'grapples', 'ugh', 'arising', 'perceptions', 'smooth', 'mt', 'determine', 'rus', 'midwest', 'ranchers', 'wales', 'timeline', 'suck', 'cornwall', 'witness', 'condoms', 'politely', 'ce', 'document', 'printing', 'robots', 'mega', 'shirts', 'helpline', 'poorly', 'dating', 'hawaii', 'enterprise', 'qanon', 'joking', 'insulin', 'gauging', 'lawsuit', 'lee', 'shitty', 'cargo', 'performing', 'crew', 'pointed', 'del', 'wins', 'organized', 'automation', 'recruit', 'duties', 'tanks', 'christian', 'suspends', 'scores', 'claimed', 'stark', 'marijuana', 'skytv', 'november', 'smoking', 'facial', 'tomatoes', 'pune', 'washed', 'lamb', 'ebt', 'refugees', 'july', 'clip', 'cotton', 'gmail', 'pak', 'yellow', 'permission', 'wind', 'indonesia', 'confined', 'auction', 'mothers', 'attorneys', 'resume', 'cheat', 'vera', 'germ', 'moh', 'leverage', 'reaches', 'mount', 'realtor', 'kelly', 'logistical', 'pretending', 'combo', 'amitshah', 'arrangements', 'cruel', 'protocols', 'samples', 'coronaupdate', 'vendor', 'insist', 'euro', 'valued', 'raid', 'benefiting', 'trucking', 'alibaba', 'dreams', 'kevin', 'math', 'tourists', 'productive', 'funeral', 'undervalued', 'lineup', 'didnt', 'fold', 'bangladesh', 'defeat', 'protects', 'insanity', 'brussels', 'requiring', 'thoughtful', 'kirana', 'earthquake', 'utah', 'ratings', 'daniel', 'doc', 'elected', 'clapping', 'appearing', 'coverings', 'jewelry', 'cooked', 'moscow', 'waived', 'brace', 'kuwait', 'movements', 'flush', 'organised', 'pwc', 'prioritise', 'smiling', 'beings', 'container', 'vulnerability', 'unfairly', 'grabbing', 'duration', 'christ', 'italia', 'destroying', 'pulses', 'maharashtra', 'advanced', 'eve', 'staffs', 'laughed', 'diarrhea', 'cs', 'grabbed', 'signals', 'lasts', 'bent', 'ig', 'delaware', 'switzerland', 'hmm', 'gesture', 'historical', 'timely', 'licked', 'moral', 'flexibility', 'askebay', 'readers', 'reflects', 'ships', 'fortnight', 'shits', 'easyfundraising', 'sacrifices', 'dtc', 'directors', 'avail', 'wildlife', 'holds', 'unpaid', 'thoroughly', 'nycmayor', 'rentals', 'slammed', 'substantial', 'psychologist', 'reminded', 'logo', 'identity', 'rant', 'underway', 'concerning', 'kaduna', 'organisation', 'republican', 'makeup', 'meantime', 'garlic', 'museveni', 'weaker', 'pence', 'coronaviruspakistan', 'celebrating', 'lvmh', 'coronavirussa', 'twisted', 'factbox', 'dealt', 'respondents', 'paypal', 'scent', 'nonessential', 'clinical', 'canberra', 'presented', 'cinema', 'elite', 'journal', 'slower', 'payday', 'democrat', 'manufactured', 'expansion', 'harper', 'truce', 'cable', 'redistribution', 'plentiful', 'queued', 'detroit', 'beijing', 'pivots', 'foodsafety', 'iptv', 'redistribute', 'gcc', 'protectthenhs', 'informal', 'bump', 'icelandfoods', 'described', 'relationships', 'cma', 'taxpayers', 'tragic', 'retirement', 'millionaire', 'tablets', 'maine', 'pittsburgh', 'illustration', 'backed', 'thick', 'slip', 'attempts', 'arrange', 'exec', 'prevents', 'drama', 'printed', 'lane', 'subsequent', 'interim', 'imran', 'films', 'gained', 'ironic', 'fmi', 'squeeze', 'carrots', 'slows', 'incase', 'exporting', 'hidden', 'teen', 'remembered', 'contacts', 'isopropyl', 'counts', 'dankmemes', 'perspectives', 'hydro', 'teaching', 'rishisunak', 'posed', 'brian', 'lowers', 'pool', 'malicious', 'blind', 'distilling', 'dressed', 'rub', 'fred', 'quotes', 'japanese', 'bazaar', 'cater', 'abuja', 'theme', 'irish', 'foodsupply', 'bloomberg', 'radically', 'fixes', 'interests', 'hemp', 'glasgow', 'wal', 'rewards', 'tasks', 'abroad', 'furloughs', 'hometown', 'beg', 'damaging', 'commonsense', 'moron', 'shampoo', 'utterly', 'depending', 'decimated', 'eviction', 'forms', 'robbery', 'primarily', 'leg', 'lulu', 'carton', 'reeling', 'technologies', 'ray', 'representatives', 'concert', 'vans', 'polish', 'bankrupt', 'ktrtrs', 'accommodation', 'crews', 'gardening', 'stamp', 'af', 'rail', 'rand', 'fam', 'calgary', 'dilemma', 'flows', 'jumps', 'cookies', 'ha', 'shed', 'urgency', 'az', 'scientific', 'fatalities', 'exponentially', 'tn', 'searches', 'ate', 'presents', 'crisp', 'nascent', 'barren', 'depends', 'resort', 'linen', 'learnt', 'valid', 'complicated', 'library', 'patrons', 'controlling', 'stages', 'thesun', 'staggering', 'intervene', 'cmo', 'converted', 'waves', 'inventories', 'maddow', 'relation', 'filmed', 'ri', 'directive', 'sticking', 'plate', 'entrances', 'classic', 'pleasant', 'inspiration', 'nowadays', 'costing', 'specialist', 'respecting', 'opportunistic', 'spell', 'survivalist', 'ah', 'democratic', 'mailonline', 'brief', 'opinions', 'sentence', 'loaded', 'replied', 'newyorkcity', 'herald', 'sized', 'deserves', 'deputy', 'gst', 'dragged', 'nbcnews', 'yorkers', 'goggles', 'perishables', 'insightful', 'tumbled', 'grand', 'recycling', 'kidding', 'heartfelt', 'fulfillment', 'proposals', 'finminindia', 'bezos', 'ocd', 'nsitharaman', 'irvpaswan', 'guests', 'jerk', 'verizon', 'reporters', 'meets', 'coronavir', 'knees', 'marks', 'enact', 'receipt', 'trial', 'sex', 'naturally', 'fort', 'rounds', 'pneumonia', 'beverages', 'ripped', 'verify', 'loses', 'equipped', 'newspapers', 'premiums', 'harvesting', 'skill', 'waited', 'dig', 'technicians', 'ghost', 'abcnews', 'distillers', 'downloads', 'substantially', 'hamster', 'fares', 'beneficiaries', 'lung', 'normalcy', 'replacement', 'owe', 'transition', 'naira', 'technical', 'cousin', 'anticipation', 'quarantining', 'wishing', 'harvey', 'slap', 'deliveroo', 'nonprofits', 'unscrupulous', 'couriers', 'foodstuff', 'respectful', 'motion', 'dried', 'prayer', 'detail', 'spectrum', 'unity', 'praised', 'cyrilramaphosa', 'mate', 'entities', 'raided', 'socialdistancingnow', 'thehill', 'weighs', 'crack', 'brunt', 'signage', 'bro', 'tf', 'ab', 'mouths', 'born', 'chinesewuhanvirus', 'openings', 'coro', 'caregivers', 'indicating', 'punch', 'dna', 'assignments', 'panickbuyinguk', 'prioritizing', 'stated', 'binge', 'tfl', 'buybacks', 'arrival', 'portable', 'ids', 'ncov', 'rm', 'lanes', 'shore', 'subsides', 'trudeau', 'kate', 'exit', 'placing', 'avoided', 'observations', 'operator', 'accepted', 'pg', 'contained', 'governortomwolf', 'stars', 'apologise', 'ky', 'wednesdaywisdom', 'adopted', 'tennessee', 'iam', 'wrapped', 'represent', 'quicker', 'inspire', 'equal', 'junior', 'spat', 'preferred', 'automatic', 'gates', 'transformed', 'braved', 'readily', 'ish', 'witnessing', 'lpg', 'sparking', 'distant', 'chest', 'craziness', 'partial', 'abusing', 'conscious', 'mon', 'stakeholders', 'reactions', 'euros', 'overlooked', 'dealer', 'declares', 'pose', 'shs', 'crackdown', 'digest', 'antonio', 'litres', 'winners', 'courses', 'reshaping', 'bat', 'interviews', 'alcoholic', 'signal', 'blocks', 'compares', 'quarantineactivities', 'cardboard', 'eastersunday', 'anyways', 'gm', 'halal', 'sheer', 'apples', 'amazonuk', 'hoosiers', 'fractured', 'connections', 'screwed', 'furloughed', 'kleenex', 'fca', 'sensibly', 'coronavillains', 'reject', 'renting', 'negotiations', 'importers', 'coworkers', 'fintech', 'boomers', 'mystery', 'cartel', 'looming', 'flattening', 'flowing', 'purposely', 'shaping', 'wwii', 'teacher', 'violating', 'jim', 'pricks', 'bother', 'facetime', 'hubby', 'practise', 'storing', 'sigh', 'collapses', 'infrared', 'proved', 'mn', 'correctly', 'cow', 'appeared', 'ramen', 'sms', 'considers', 'dorset', 'msm', 'bengaluru', 'magnitude', 'ultra', 'restricting', 'celebration', 'musicians', 'sundaymorning', 'wed', 'profiteer', 'angel', 'visa', 'tonic', 'stricken', 'headline', 'alarm', 'legit', 'observation', 'surprisingly', 'ksa', 'miners', 'grandma', 'cupboard', 'bunker', 'investigated', 'revised', 'execs', 'mothersday', 'upward', 'lewis', 'sickening', 'myths', 'southern', 'courage', 'pe', 'designer', 'wuhancoronavirus', 'approaches', 'cue', 'positives', 'steam', 'cashless', 'queen', 'govts', 'pointless', 'skype', 'definition', 'shopkeeper', 'cracking', 'protest', 'routines', 'fijian', 'boyfriend', 'andy', 'cambridge', 'battered', 'planting', 'fedex', 'dine', 'lahore', 'symbol', 'figured', 'les', 'scenarios', 'universities', 'profile', 'theory', 'reassuring', 'powder', 'socialist', 'yell', 'filthy', 'barrier', 'tracked', 'tomato', 'dontpanic', 'hunker', 'susannareid', 'catches', 'srilanka', 'lka', 'brazil', 'pandemia', 'extensive', 'gazette', 'incindia', 'needless', 'involves', 'favor', 'mps', 'hungary', 'briefings', 'hyper', 'programme', 'keepyourdistance', 'outcomes', 'consumerprotection', 'classify', 'hearts', 'worlds', 'malware', 'wheel', 'waters', 'tougher', 'functional', 'celebrity', 'econ', 'anticipated', 'arriving', 'humanitarian', 'aviation', 'realistic', 'publication', 'fridges', 'sum', 'strikes', 'uh', 'verbally', 'creativity', 'apologize', 'begging', 'length', 'commentary', 'borrowers', 'reviews', 'webpage', 'acknowledge', 'picknpay', 'communicate', 'structure', 'outlet', 'superheroes', 'weapon', 'terrorism', 'prevailing', 'equally', 'postmen', 'regard', 'lemon', 'honey', 'narrative', 'rep', 'pads', 'consequence', 'grace', 'ram', 'eh', 'ltd', 'sneezed', 'airports', 'prescriptions', 'unusual', 'fitting', 'progress', 'moaning', 'essays', 'mcdonalds', 'tyson', 'bingo', 'crushed', 'generated', 'instance', 'primark', 'stance', 'spaghetti', 'compensate', 'propose', 'promotion', 'receives', 'catastrophic', 'respectively', 'emts', 'toiletpapershortage', 'prospects', 'automatically', 'internal', 'prepares', 'retired', 'candidate', 'presence', 'threw', 'tumbling', 'dystopian', 'grossly', 'fridayfeeling', 'liverpool', 'soybean', 'peas', 'relate', 'species', 'illnesses', 'kidney', 'cushion', 'californialockdown', 'brescia', 'philly', 'stream', 'partnered', 'aspects', 'cakes', 'kicks', 'unreal', 'consumed', 'kitchens', 'bragging', 'raiding', 'soared', 'encourages', 'purposes', 'protocol', 'phoenix', 'pending', 'astronomical', 'genuine', 'imf', 'mainstream', 'mills', 'participating', 'bite', 'worn', 'laughter', 'intensive', 'collections', 'lacking', 'incompetent', 'core', 'believed', 'communist', 'shrinking', 'wereinthistogether', 'suffered', 'wood', 'eagle', 'weapons', 'youre', 'birth', 'shameless', 'privileged', 'sephora', 'coronavirussouthafrica', 'whereas', 'bomb', 'essentially', 'coronavirusnz', 'detailed', 'npr', 'sustain', 'doomsday', 'amzn', 'carrefour', 'hon', 'murphy', 'bestbuy', 'distanced', 'symptom', 'bangkok', 'mandated', 'ect', 'dedicate', 'howard', 'propaganda', 'noted', 'counting', 'spin', 'tour', 'footing', 'addresses', 'influencing', 'latin', 'coronavirusinindia', 'homebound', 'fatal', 'premises', 'broad', 'sprayed', 'fourth', 'clarify', 'laptop', 'lights', 'stimulate', 'afp', 'korean', 'stephen', 'advertise', 'mrp', 'ni', 'gender', 'checklist', 'heck', 'artificially', 'phil', 'pin', 'deferred', 'justsaying', 'structural', 'religion', 'holdings', 'spiking', 'tory', 'laboratory', 'robert', 'shopritestores', 'fitness', 'pairs', 'camp', 'belt', 'weddings', 'stake', 'mary', 'reform', 'lifting', 'tobacco', 'sweeping', 'tampa', 'unitedstates', 'versus', 'homeschooling', 'frame', 'legitimate', 'ii', 'appropriately', 'railway', 'disinfection', 'beers', 'magazine', 'supplychains', 'packing', 'clarity', 'reliant', 'bagging', 'lazy', 'shine', 'sheltering', 'sap', 'alleged', 'spiral', 'inability', 'avenue', 'ventured', 'dollartree', 'gary', 'belgium', 'batch', 'merch', 'pattern', 'quarterly', 'sends', 'unchanged', 'honour', 'uninsured', 'coronainpakistan', 'indiafightscoronavirus', 'wankers', 'li', 'survivor', 'outlines', 'securing', 'evolution', 'lake', 'sanitization', 'ave', 'clowns', 'answering', 'venturing', 'nebraska', 'absence', 'danielandrewsmp', 'solely', 'convinced', 'weakened', 'sciences', 'ubereats', 'lyft', 'attacking', 'poses', 'exploring', 'nicely', 'rationed', 'believing', 'contrast', 'biscuits', 'refer', 'falsely', 'boycotthul', 'flower', 'inadequate', 'springs', 'consuming', 'digit', 'reader', 'staffing', 'reflected', 'su', 'advises', 'janatacurfew', 'bbcbreaking', 'curfews', 'outfit', 'inconsiderate', 'atlantic', 'wishes', 'insensitive', 'pilot', 'idk', 'transfers', 'killer', 'donors', 'entertain', 'cont', 'tire', 'mkt', 'depleted', 'adversity', 'elders', 'contingency', 'conservatives', 'papertowels', 'lbc', 'immense', 'intend', 'mentality', 'whatsoever', 'cp', 'cried', 'artisanal', 'bcpoli', 'nys', 'mbuhari', 'micro', 'yoga', 'reckon', 'twats', 'iranian', 'gram', 'plane', 'coincidence', 'frm', 'penny', 'tear', 'chef', 'stricter', 'trapped', 'itvnews', 'transformation', 'approx', 'asses', 'wire', 'bats', 'thomas', 'wary', 'dang', 'woes', 'completed', 'complications', 'jennifer', 'gougers', 'ransacked', 'indicative', 'obey', 'discussions', 'charitable', 'inspiring', 'unsolicited', 'rushed', 'colours', 'august', 'utmost', 'nm', 'features', 'warriors', 'paused', 'william', 'gal', 'mi', 'tensions', 'imrankhanpti', 'firemen', 'transunion', 'kansas', 'wonders', 'arent', 'insufficient', 'setup', 'audience', 'pharmaceuticals', 'exacerbated', 'depressing', 'buddy', 'suspicious', 'promising', 'floors', 'americas', 'fools', 'enabling', 'burn', 'subsidy', 'neighborhoods', 'richest', 'frequent', 'drag', 'sprays', 'assuming', 'preserve', 'secondary', 'karnataka', 'busch', 'maize', 'sewing', 'indicates', 'easing', 'gaps', 'medics', 'relatives', 'emerged', 'hmmm', 'creators', 'inviting', 'poorer', 'questionable', 'acquired', 'standstill', 'unskilled', 'fijinews', 'adopt', 'oilandgas', 'halloween', 'dankmeme', 'poorest', 'seriousness', 'mistakes', 'savers', 'advocacy', 'racing', 'faqs', 'civilization', 'hd', 'tied', 'sec', 'outdoors', 'paris', 'registration', 'philippines', 'curbs', 'battles', 'tattoo', 'lawsuits', 'ethiopia', 'purposefully', 'complimentary', 'stayathomeandstaysafe', 'objects', 'newsom', 'iga', 'clues', 'helpeachother', 'ausbiz', 'kaikohe', 'studying', 'sessions', 'dispensers', 'manitoba', 'momentum', 'italians', 'obama', 'layers', 'wfp', 'dividends', 'josh', 'accessories', 'hydcitypolice', 'moreover', 'browse', 'furlough', 'advocate', 'drew', 'nclc', 'homeowners', 'unfolding', 'flyfrontier', 'hospitalized', 'grapple', 'attending', 'simon', 'ssa', 'recap', 'iraqi', 'doom', 'responder', 'installing', 'accessing', 'improved', 'mtn', 'quoted', 'di', 'functioning', 'sanitising', 'atms', 'fare', 'reductions', 'sport', 'presidential', 'seat', 'browsing', 'coronaviruscanada', 'cooper', 'overpricing', 'essentialworker', 'circuit', 'wisdom', 'mutual', 'dash', 'robbing', 'overdrive', 'sourcing', 'gauge', 'gears', 'volunteering', 'superstore', 'fdic', 'unused', 'jet', 'troops', 'specialists', 'waking', 'scored', 'saturdaythoughts', 'allowance', 'stall', 'bullish', 'bird', 'scottish', 'portion', 'realizing', 'buffer', 'afterwards', 'opposed', 'lupus', 'oils', 'gradually', 'theirs', 'lobby', 'demonstrates', 'cod', 'rout', 'crashes', 'belief', 'unfortunate', 'bbl', 'residence', 'xmas', 'reserving', 'gouge', 'uhuru', 'clown', 'alliance', 'recognised', 'reschedule', 'linger', 'spiked', 'broader', 'mfs', 'organize', 'equities', 'actress', 'graphic', 'wereallinthistogether', 'congratulations', 'ripoff', 'keepers', 'jamie', 'offs', 'nl', 'directing', 'touches', 'define', 'mexican', 'mortality', 'clears', 'petrolprice', 'cancels', 'webinars', 'thinkofothers', 'edmonton', 'billionaire', 'stringent', 'chronic', 'chinaliedpeopledied', 'consumerconfidence', 'fooddelivery', 'ff', 'poised', 'marketer', 'memory', 'mustard', 'piles', 'togetherathome', 'directives', 'meijer', 'cocaine', 'morgan', 'currencies', 'spark', 'honorable', 'likelihood', 'alternate', 'relies', 'gilead', 'bunny', 'rubbish', 'chip', 'flyers', 'distances', 'decides', 'tale', 'limitations', 'chase', 'circulating', 'terminal', 'footage', 'column', 'arrives', 'freak', 'upto', 'embrace', 'boosts', 'conducting', 'beard', 'importing', 'odds', 'uncharted', 'wth', 'chinesecoronavirus', 'thewalkingdead', 'diego', 'vary', 'inbox', 'catering', 'wicked', 'eleven', 'bloke', 'striking', 'exams', 'escalate', 'ja', 'gld', 'denial', 'bumping', 'climb', 'married', 'pity', 'intensified', 'safeguards', 'dal', 'etiquette', 'ugandans', 'servants', 'practiced', 'brewing', 'bridge', 'salman', 'provinces', 'wwe', 'recommending', 'consultant', 'bangalore', 'newzealand', 'android', 'regulating', 'rbc', 'clueless', 'hobby', 'lobbying', 'accidental', 'warehousing', 'toss', 'hmu', 'principal', 'strengthen', 'allegations', 'republic', 'quietly', 'livelihood', 'impressive', 'venues', 'drought', 'partnering', 'undocumented', 'cop', 'horizon', 'senatorloeffler', 'epa', 'automated', 'badge', 'journeys', 'continuity', 'victory', 'applicable', 'jane', 'mg', 'generate', 'competitors', 'windsor', 'coronapandemic', 'arkansas', 'chevron', 'dia', 'indialockdown', 'simulation', 'mena', 'overview', 'clapforcarers', 'wearamask', 'analyzed', 'coronavirustruth', 'violated', 'contractions', 'denying', 'clapforkeyworkers', 'flaws', 'adoting', 'ayurved', 'bailing', 'largo', 'tariff', 'christianity', 'smithfield', 'km', 'winery', 'licensed', 'yorkshire', 'exposes', 'reps', 'glimpse', 'markings', 'tees', 'meyer', 'jacindaardern', 'excessively', 'jeffreestar', 'pivoted', 'subscriptions', 'initially', 'orleans', 'shielding', 'zambia', 'sheffield', 'stayathomeorder', 'docs', 'miracle', 'hotspots', 'hyd', 'disastrous', 'adoption', 'alabama', 'engineer', 'kerala', 'calculated', 'entity', 'bull', 'weighing', 'busier', 'citing', 'sponsored', 'confronted', 'branding', 'selfless', 'beaten', 'slides', 'scumbags', 'gaining', 'lisa', 'respite', 'prince', 'backbone', 'predicting', 'acceptance', 'lawyers', 'dynamic', 'imminent', 'louisiana', 'split', 'supermarketsweep', 'dems', 'seats', 'pledged', 'slim', 'bids', 'loot', 'russians', 'delaying', 'pleading', 'goodbye', 'label', 'syria', 'meaningful', 'imo', 'brutal', 'aluminium', 'trumps', 'aaa', 'burr', 'devil', 'hassle', 'crimes', 'slams', 'nbc', 'moronic', 'vuitton', 'borrow', 'newest', 'pages', 'bekindtoeachother', 'coronaindia', 'bye', 'deployed', 'pti', 'portugal', 'harry', 'seized', 'swan', 'phe', 'peanut', 'sterling', 'demanded', 'troubled', 'lease', 'wreaking', 'daddy', 'stressing', 'bum', 'directions', 'riyadh', 'applying', 'lime', 'finnish', 'mitigation', 'planners', 'resale', 'adjusts', 'freely', 'legally', 'kicking', 'homedepot', 'audio', 'imperative', 'familiar', 'mama', 'biden', 'borrowing', 'rallying', 'gr', 'rocket', 'incentive', 'disappeared', 'laying', 'monopoly', 'yelp', 'horse', 'researching', 'bizarre', 'accountability', 'doubles', 'securities', 'male', 'ages', 'minus', 'celebrated', 'mayhem', 'federation', 'emissions', 'jam', 'arse', 'socks', 'pacp', 'appointments', 'fi', 'stimuluspackage', 'relations', 'accommodate', 'rinse', 'cage', 'mistake', 'capitalize', 'bites', 'sandwich', 'apocalyptic', 'rumors', 'grandmother', 'proportion', 'screaming', 'goldman', 'exercising', 'title', 'vat', 'sacrificing', 'chaotic', 'livelihoods', 'appalled', 'ted', 'manner', 'transparent', 'loves', 'dedication', 'plays', 'cigarette', 'fires', 'rides', 'informative', 'indication', 'declaring', 'pig', 'columbia', 'prompting', 'tops', 'weigh', 'agenda', 'reselling', 'discriminate', 'deploy', 'nov', 'covidontario', 'coronavirusitaly', 'brewery', 'pills', 'copd', 'practitioners', 'utilize', 'aiming', 'floating', 'fearing', 'fried', 'lawyer', 'pigs', 'yeg', 'abandoned', 'recording', 'excise', 'mountain', 'horrendous', 'northeast', 'stockmarketcrash', 'clever', 'exporter', 'animalcrossing', 'bravo', 'computers', 'veggie', 'nt', 'stretch', 'accordingly', 'disappointing', 'goodnews', 'orlando', 'encountered', 'bean', 'theatre', 'annoyed', 'profound', 'inevitably', 'riot', 'shoe', 'prohibits', 'hordes', 'nordstrom', 'swing', 'travelers', 'taped', 'bouncing', 'floods', 'powered', 'flyer', 'medically', 'uni', 'mayorofla', 'birmingham', 'beating', 'religious', 'awhile', 'furious', 'entertained', 'baggers', 'flex', 'chapter', 'riders', 'buttons', 'porters', 'dontbeaspreader', 'pint', 'yomequedoencasa', 'markers', 'climatechange', 'salad', 'dave', 'authorized', 'onions', 'licences', 'mandate', 'lebanon', 'sane', 'litter', 'rack', 'sandwiches', 'branches', 'freezing', 'electronic', 'hack', 'evident', 'fragility', 'beloved', 'monster', 'develops', 'soda', 'compound', 'tie', 'staring', 'sos', 'politician', 'gels', 'settled', 'voters', 'credits', 'inconvenience', 'chinaliedandpeopledied', 'applause', 'bogroll', 'chewy', 'kumar', 'obtain', 'unleaded', 'gathered', 'outcome', 'disinformation', 'telanganacmo', 'lemons', 'exporters', 'hardworking', 'deflation', 'publishers', 'resolve', 'turbulent', 'sisters', 'discrimination', 'advent', 'tanking', 'tribute', 'hook', 'deny', 'balcony', 'touted', 'capping', 'fijians', 'turnover', 'mercy', 'cleans', 'dot', 'footfall', 'spokesperson', 'cycling', 'featured', 'introduces', 'lined', 'grim', 'popularity', 'nan', 'spaced', 'blogs', 'polling', 'mechanism', 'rainbow', 'wireless', 'bowl', 'painful', 'wwd', 'lauren', 'ccpvirus', 'writer', 'ncdcgov', 'ev', 'bil', 'posing', 'prolonged', 'avg', 'bold', 'margin', 'considerations', 'peaks', 'influenza', 'liberals', 'bootsuk', 'staffed', 'altogether', 'gps', 'earrings', 'trajectory', 'regret', 'defining', 'thai', 'wv', 'seating', 'denver', 'scientist', 'kent', 'supporters', 'unstable', 'positivity', 'hustle', 'jared', 'intelligent', 'tone', 'prioritized', 'dual', 'checkers', 'nick', 'amend', 'brampton', 'colors', 'negotiate', 'dowjones', 'pretend', 'economiccrisis', 'il', 'cv', 'discard', 'jantacurfew', 'promises', 'qatarairways', 'sue', 'minority', 'residentevil', 'invisible', 'pharmacist', 'learnings', 'harms', 'decreasing', 'dignity', 'saturated', 'trumppressconference', 'enhance', 'engineers', 'sunglasses', 'gut', 'principles', 'convert', 'journalist', 'scan', 'toiletpaperwars', 'ridiculously', 'cheer', 'saliva', 'liter', 'edibles', 'patanjali', 'techs', 'thieves', 'snake', 'highway', 'coronastopkarona', 'exploited', 'teamed', 'fleeing', 'salvation', 'um', 'brains', 'pilling', 'israeli', 'invited', 'ore', 'bilbrough', 'favour', 'punjab', 'dye', 'dublin', 'worsening', 'swiftly', 'coronavirusinsouthafrica', 'ports', 'insecure', 'reforms', 'loud', 'sued', 'medicaid', 'sincerely', 'nets', 'components', 'amazonfresh', 'collectively', 'practically', 'nfl', 'retweeet', 'uncle', 'recognition', 'scrap', 'saveonfoods', 'allies', 'shortly', 'mil', 'domino', 'malaysialockdown', 'inundated', 'reflection', 'appetite', 'mums', 'fisher', 'profitability', 'speculation', 'tens', 'greeter', 'trap', 'blown', 'distinct', 'congrats', 'brink', 'leaning', 'licence', 'oriented', 'ss', 'ht', 'workplaces', 'vision', 'flooded', 'upping', 'touchscreens', 'drfauci', 'void', 'chosen', 'globaldata', 'prescribed', 'loeffler', 'exceptions', 'susan', 'mcconnell', 'corporates', 'spotlight', 'federalreserve', 'delighted', 'branded', 'washes', 'upstream', 'teenager', 'codvid', 'hugs', 'togetherapart', 'comedian', 'blessing', 'withstand', 'sindh', 'yields', 'shelteringinplace', 'focuses', 'par', 'ink', 'disinfected', 'shoponline', 'turkish', 'titles', 'hy', 'eurozone', 'anna', 'treasury', 'instantly', 'wines', 'bengal', 'jamaica', 'demographic', 'coke', 'mentally', 'wrap', 'suppress', 'discovering', 'rings', 'defer', 'fluid', 'ensures', 'singh', 'shouted', 'abundant', 'vile', 'daughters', 'outs', 'ffp', 'pressuring', 'tours', 'river', 'explosion', 'diagnostic', 'kenney', 'tempted', 'tricks', 'surrey', 'enables', 'martinslewis', 'coordinated', 'parade', 'rv', 'sixfeetapart', 'sri', 'beats', 'ignite', 'shining', 'seemingly', 'hesitate', 'montana', 'localbusiness', 'ang', 'bidets', 'staypositive', 'coopuk', 'newjersey', 'warming', 'poo', 'moon', 'surgery', 'settings', 'versions', 'occurs', 'christchurch', 'immigration', 'beside', 'manhattan', 'dodging', 'ecb', 'wandering', 'dominos', 'firing', 'abundance', 'reduceinternetprices', 'closest', 'dodge', 'sheeple', 'uniform', 'memories', 'staggered', 'wondered', 'tier', 'communicating', 'butt', 'forgetting', 'holes', 'oxygen', 'sides', 'animation', 'adobe', 'annotated', 'savvy', 'hazmat', 'sweden', 'esg', 'humour', 'assessing', 'liberal', 'adequately', 'acute', 'fantasy', 'worsen', 'hammered', 'poisoning', 'holder', 'emi', 'enterprises', 'mint', 'simultaneously', 'songs', 'homedelivery', 'ranks', 'sunbathing', 'detection', 'municipal', 'giantfood', 'ceiling', 'shrink', 'pensions', 'fri', 'restoring', 'viable', 'journalism', 'dmv', 'costly', 'dynata', 'everytime', 'financing', 'coworker', 'designation', 'yield', 'scrambles', 'skyrockets', 'marketwatch', 'stew', 'fundamentally', 'fortunately', 'algeria', 'jaketapper', 'nationally', 'consumerrights', 'camps', 'detention', 'violations', 'shaking', 'kim', 'disproportionately', 'consistently', 'venezuelan', 'yelling', 'swell', 'dirt', 'cluster', 'braving', 'notices', 'subscribe', 'adelaide', 'files', 'kiss', 'banana', 'toddler', 'reassured', 'crushes', 'tvs', 'lookout', 'labreports', 'hum', 'bibliographies', 'ramifications', 'slipped', 'occurring', 'shots', 'aliens', 'bets', 'capable', 'luzon', 'diagnosis', 'riding', 'keepcalm', 'pp', 'ty', 'kashmir', 'auctions', 'hypocrisy', 'ilorin', 'travellers', 'quarentine', 'mates', 'formed', 'twin', 'pens', 'sm', 'insisted', 'chamber', 'debbie', 'makro', 'fiction', 'faq', 'filing', 'maintained', 'immoral', 'foreclosures', 'expenditure', 'loop', 'scammed', 'thx', 'disrupting', 'doubts', 'emphasis', 'coronalockdownuk', 'elevator', 'anxieties', 'hundred', 'pitch', 'dat', 'wen', 'canonforcommunity', 'ranging', 'caribbean', 'magic', 'adam', 'pulp', 'overrun', 'triggers', 'nessel', 'andme', 'assisting', 'charles', 'perform', 'rating', 'nah', 'blamed', 'profitable', 'dominance', 'coronovirus', 'vacuum', 'toiletrollchallenge', 'separation', 'slips', 'sovereign', 'generic', 'int', 'convince', 'tension', 'schoolclosuresuk', 'evolves', 'prioritising', 'outstanding', 'releasing', 'usatoday', 'murder', 'productivity', 'dms', 'cfo', 'moms', 'caresact', 'recovers', 'radius', 'participants', 'conservative', 'clinics', 'predatory', 'encounter', 'influencers', 'billing', 'ubi', 'listened', 'skimming', 'asians', 'tuckercarlson', 'recognizing', 'luxembourg', 'grandparent', 'retailing', 'greeted', 'tray', 'recruitment', 'peterpsquare', 'tesla', 'islands', 'forrester', 'plates', 'commercials', 'disposal', 'charlotte', 'virologist', 'irgc', 'welp', 'discipline', 'ive', 'madrid', 'aunt', 'realtime', 'massgovernor', 'reset', 'rocketing', 'crunch', 'lockdownaustralia', 'safeguarding', 'underground', 'excuses', 'harris', 'threshold', 'cpi', 'prompt', 'essay', 'overpriced', 'oversight', 'forth', 'daunt', 'cup', 'aircanada', 'coimbatore', 'pour', 'achieved', 'wwg', 'spglobalplatts', 'iron', 'mentions', 'stares', 'weekends', 'critically', 'league', 'mla', 'deborah', 'mypov', 'refrigeration', 'museums', 'sanders', 'outta', 'ne', 'emailed', 'diamonds', 'tall', 'cab', 'degrees', 'diapers', 'fancy', 'consecutive', 'fundamentals', 'recessions', 'delta', 'stole', 'govinslee', 'du', 'bopinion', 'ns', 'highriskcovid', 'wmt', 'restore', 'lands', 'township', 'sears', 'anonymous', 'aaron', 'matthew', 'replaced', 'sporting', 'hhs', 'lo', 'royalmail', 'compulsory', 'infused', 'fg', 'smells', 'indicate', 'treasure', 'dotherightthing', 'joseph', 'basement', 'soo', 'desire', 'inter', 'weston', 'landlord', 'airbnb', 'cooperate', 'happily', 'aspect', 'waterstones', 'noise', 'tonne', 'fuckers', 'gmt', 'bearish', 'silent', 'ei', 'tw', 'trumppandemic', 'amen', 'selfishpeople', 'shaken', 'replenished', 'grave', 'taskforce', 'pulls', 'heat', 'guinea', 'leeds', 'ebola', 'repurposed', 'virtue', 'ahmed', 'digitally', 'fate', 'stayhomesavelifes', 'spice', 'baseball', 'easterweekend', 'ios', 'yyc', 'tracks', 'tighter', 'karachi', 'squares', 'measured', 'shanghai', 'stpatricksday', 'portions', 'argues', 'trillions', 'peril', 'telangana', 'nairobi', 'coronavirusinnigeria', 'ditch', 'threeuk', 'jimmy', 'malawi', 'moisturizing', 'garylineker', 'stone', 'grass', 'bcoz', 'yaffebellany', 'scarsdale', 'wakeup', 'craze', 'sentiments', 'essentialservices', 'tunnel', 'coalition', 'migrants', 'classy', 'exceptional', 'turnip', 'lens', 'bharat', 'amy', 'panick', 'makeshift', 'stickers', 'salon', 'deferrals', 'wena', 'hannaford', 'disregard', 'coordination', 'cocoa', 'approaching', 'mylan', 'lobster', 'lacs', 'antitrust', 'cor', 'arrests', 'evicted', 'spgmarketintel', 'trumpmeltdown', 'radical', 'jidesanwoolu', 'gouged', 'abide', 'intense', 'sanfrancisco', 'sto', 'imposter', 'incarcerated', 'drain', 'wisely', 'ac', 'shutter', 'workouts', 'feared', 'elonmusk', 'lockdownsouthafrica', 'antiseptic', 'anheuser', 'palm', 'pleads', 'theage', 'handful', 'gofundme', 'coronavirusinkenya', 'hints', 'amazonsmile', 'allen', 'integrity', 'experiment', 'sorting', 'mondaymotivaton', 'conquer', 'skincare', 'olds', 'renters', 'bathrooms', 'traveled', 'speakers', 'vee', 'filters', 'smartphones', 'ruin', 'overreacting', 'mtnng', 'error', 'ratio', 'fought', 'tortillas', 'bitches', 'steak', 'frustration', 'violation', 'deciding', 'alan', 'disappointment', 'cargill', 'certificates', 'fbcnews', 'betting', 'ye', 'govrondesantis', 'improving', 'bake', 'salem', 'unpredictable', 'memorial', 'dakota', 'defraud', 'momlife', 'onlinemarketing', 'sem', 'insure', 'nationals', 'relaxing', 'stresses', 'checkerssa', 'advertisers', 'miserable', 'austerity', 'extras', 'stopandshop', 'hunter', 'nancy', 'rocked', 'clippers', 'coronapandemie', 'mondaymood', 'tradition', 'warren', 'prognosis', 'disrupts', 'governorva', 'fairprice', 'faring', 'provincial', 'haircut', 'ron', 'ear', 'panama', 'efficiently', 'savages', 'heights', 'advisors', 'healthcareheroes', 'ndtv', 'expectation', 'bankruptcies', 'scanning', 'spices', 'accident', 'krg', 'curbed', 'weakness', 'receipts', 'isolationlife', 'doorsteps', 'thier', 'rig', 'smes', 'sponsor', 'oblivious', 'arthritis', 'simpler', 'libya', 'bopis', 'sanitise', 'eased', 'nearing', 'milan', 'pessimism', 'raging', 'bazar', 'debenhams', 'mondaymorning', 'ebook', 'realjameswoods', 'speaker', 'handmade', 'dth', 'supporter', 'inches', 'coronatime', 'mol', 'santa', 'pictured', 'africans', 'acc', 'weareallinthistogether', 'pickers', 'retreats', 'activated', 'yay', 'scratch', 'assam', 'expertise', 'confront', 'speedy', 'refrigerators', 'affluent', 'statements', 'ryan', 'guelph', 'author', 'taylor', 'boxing', 'discourage', 'loaves', 'para', 'comeback', 'festival', 'semiconductor', 'madison', 'paranoia', 'teamwork', 'bankofamerica', 'ta', 'autoimmune', 'meltdown', 'understands', 'scanner', 'graduate', 'res', 'incidents', 'agrees', 'ics', 'tr', 'attract', 'soooo', 'pickups', 'pill', 'frustrated', 'abusive', 'pleasantly', 'nevada', 'casino', 'bargains', 'pipe', 'rwandans', 'catastrophe', 'ipa', 'varying', 'operates', 'seekers', 'advisor', 'vultures', 'cinemas', 'prosecute', 'resell', 'breeding', 'originally', 'problematic', 'browns', 'mere', 'bucks', 'lone', 'niece', 'coviduk', 'shoppingonline', 'txlege', 'grips', 'wolf', 'monitors', 'thursdaymotivation', 'govsisolak', 'bristol', 'dependence', 'login', 'shouting', 'andrex', 'healthier', 'sn', 'resign', 'aramco', 'chick', 'piano', 'lockdownlondon', 'attractive', 'amazed', 'childhood', 'medal', 'adviser', 'darkness', 'cagovernor', 'throws', 'havent', 'hugging', 'bolster', 'choosing', 'verge', 'hay', 'renewables', 'sorted', 'uneducated', 'algorithms', 'ctvnews', 'soldout', 'nhsengland', 'pan', 'unforeseen', 'elder', 'taxpayer', 'maps', 'solar', 'cracks', 'finishing', 'pun', 'barcelona', 'wembley', 'stack', 'graph', 'spraying', 'careers', 'belfast', 'fortune', 'diligently', 'goddamn', 'nicer', 'bakeries', 'pcs', 'donaldtrump', 'heartless', 'cocktail', 'diagnose', 'marketplaces', 'idle', 'represents', 'chasing', 'contraction', 'ralph', 'handsanitiser', 'amazonin', 'worsens', 'ind', 'ought', 'unethical', 'nifty', 'stuffed', 'tescos', 'barometer', 'quarantinecats', 'swedish', 'passenger', 'orgs', 'sardines', 'communism', 'cheeks', 'lessen', 'der', 'remake', 'djia', 'cautions', 'invented', 'imagined', 'hired', 'sing', 'paswan', 'engineering', 'rampant', 'conversations', 'jeremycorbyn', 'targets', 'stat', 'cries', 'altering', 'webcast', 'jhootspharmacy', 'durables', 'desert', 'droves', 'metrics', 'bakers', 'coronavirusnigeria', 'aggressively', 'gloom', 'fuckwits', 'cl', 'instruction', 'gta', 'upheaval', 'vastly', 'fbi', 'taiwan', 'girlfriend', 'apartments', 'balls', 'cornavirusoutbreak', 'regain', 'coombs', 'http', 'antibodies', 'endangering', 'laboratories', 'emotionally', 'savelives', 'describes', 'medtwitter', 'shortfall', 'attempted', 'skyhelpteam', 'biotech', 'philippine', 'cabin', 'selfemployed', 'understandable', 'instore', 'graham', 'jackson', 'installment', 'saint', 'fluctuations', 'sanctuary', 'menards', 'henry', 'goodwill', 'respirator', 'arguments', 'considerably', 'dare', 'porch', 'burning', 'qe', 'moci', 'seasons', 'inflicted', 'govlarryhogan', 'cape', 'freaked', 'sunny', 'protectyourself', 'ccpa', 'submitted', 'rarely', 'giveaway', 'borough', 'hype', 'rewe', 'alaska', 'conferences', 'ghanaian', 'ch', 'screamed', 'tel', 'lethal', 'voteblue', 'tide', 'realtors', 'angels', 'manners', 'hyvee', 'morale', 'staythefuckhome', 'richmond', 'connectivity', 'distributor', 'shud', 'gross', 'actor', 'tripling', 'dj', 'debts', 'aud', 'substitutes', 'suffers', 'joints', 'yard', 'fifth', 'forty', 'heroic', 'dprinting', 'defective', 'obsession', 'reopened', 'prepayment', 'ears', 'cu', 'legend', 'salons', 'manufactures', 'blank', 'remedies', 'docks', 'suitable', 'constraints', 'establish', 'newworldorder', 'commits', 'behaved', 'schooling', 'foresee', 'frankly', 'expense', 'concerts', 'abiding', 'trevornoah', 'thriving', 'satire', 'dentists', 'customerservice', 'frantic', 'cloths', 'homework', 'lighting', 'mayoroflondon', 'hacks', 'unwanted', 'scrutiny', 'irrational', 'emailing', 'tower', 'asx', 'invoke', 'jumia', 'visual', 'nitrile', 'ut', 'stateofemergency', 'diabetic', 'scammer', 'campbell', 'animalcrossingnewhorizons', 'cells', 'halting', 'cruises', 'todo', 'saver', 'dec', 'sikh', 'vladimir', 'pleas', 'argentina', 'swift', 'ctsi', 'doesnt', 'austria', 'basketball', 'pple', 'spencer', 'tpshortage', 'courts', 'ammunition', 'memo', 'boring', 'tanzania', 'vid', 'authors', 'foodshortage', 'scamalert', 'franchise', 'dime', 'payers', 'aldiusa', 'settles', 'blitz', 'gc', 'bob', 'lifesaving', 'swimming', 'flushing', 'demo', 'ulta', 'traderjoes', 'worsened', 'covidbc', 'renewable', 'geared', 'assault', 'cking', 'preventative', 'neck', 'sausage', 'accuracy', 'nintendo', 'tend', 'recognise', 'orderly', 'terribly', 'jimcramer', 'spends', 'argument', 'slice', 'heist', 'advisories', 'recognized', 'earnest', 'luke', 'auckland', 'vibe', 'marketresearch', 'environments', 'vaccinations', 'faculty', 'ko', 'govmikedewine', 'cunt', 'yummy', 'veteran', 'prisons', 'ani', 'roses', 'occasion', 'te', 'pleaded', 'shutoffs', 'surrounded', 'deserted', 'escalating', 'cd', 'stabilise', 'origin', 'nhsthankyou', 'oilsands', 'grappling', 'effecting', 'brothers', 'accommodations', 'ben', 'insolvency', 'hamburger', 'sacramento', 'disorder', 'metalminer', 'twat', 'sd', 'proxy', 'telcos', 'educated', 'master', 'easyuk', 'bollocks', 'greg', 'ipsos', 'herbs', 'restored', 'mayors', 'shopify', 'mongering', 'dontpanicbuy', 'toy', 'shelve', 'interrupted', 'covoid', 'blues', 'siblings', 'frank', 'fluctuate', 'multiply', 'deem', 'phases', 'shielded', 'surveillance', 'smashed', 'strips', 'melt', 'newday', 'nameandshame', 'lax', 'voluntarily', 'selves', 'yearly', 'escalated', 'hysterical', 'anthony', 'cartons', 'weary', 'cspi', 'troubling', 'deteriorating', 'mufc', 'edinburgh', 'quiroga', 'shaky', 'subscriber', 'downgrade', 'criticism', 'emma', 'overbuying', 'framework', 'coordinate', 'reversed', 'infuriating', 'studio', 'socialcare', 'freedoms', 'stockpiles', 'fury', 'pops', 'roy', 'gfc', 'swipe', 'za', 'unfold', 'concessional', 'harsh', 'viewers', 'essex', 'idiocy', 'rio', 'coronavirusitalianews', 'businessmen', 'embarrassing', 'jose', 'billgates', 'bang', 'scrub', 'pastor', 'spurs', 'established', 'removes', 'ninja', 'merchant', 'dashboard', 'pakistani', 'euets', 'repayment', 'consulting', 'supervalu', 'uninterrupted', 'freelancers', 'undoubtedly', 'transplant', 'liver', 'intel', 'changer', 'bookmark', 'whichuk', 'landed', 'tht', 'capes', 'musk', 'tackled', 'nails', 'dictate', 'heels', 'awaiting', 'condemn', 'spur', 'chemistry', 'tricky', 'ken', 'rebounds', 'muffins', 'metric', 'sw', 'withdraw', 'horrifying', 'mrs', 'remoteworking', 'cabinets', 'naija', 'stacked', 'bubbles', 'resumes', 'safehands', 'bargaining', 'refrigerator', 'unclear', 'tweaking', 'unveils', 'ding', 'interacting', 'realities', 'councils', 'shitting', 'upgrade', 'populated', 'spurred', 'ravages', 'cuban', 'explanation', 'revoke', 'establishment', 'nuclear', 'coma', 'grey', 'carer', 'imposing', 'overworked', 'carter', 'acquire', 'bruce', 'advantages', 'grounded', 'subsidies', 'qantas', 'statutory', 'sneak', 'thermal', 'anthonymace', 'oilpatch', 'homelessness', 'audiences', 'liberty', 'chronicles', 'heed', 'fry', 'punishing', 'harold', 'theellenshow', 'secured', 'aides', 'lancashire', 'catchup', 'criteria', 'germans', 'earners', 'demonstrating', 'lit', 'ms', 'blanket', 'jar', 'saves', 'chats', 'squirt', 'female', 'indonesian', 'cups', 'mill', 'everly', 'ties', 'revealing', 'abs', 'policemen', 'nigel', 'arses', 'resellers', 'votes', 'petrochemicals', 'punish', 'eager', 'cf', 'foreclosure', 'consultation', 'msg', 'presses', 'newsalert', 'iv', 'patrol', 'ems', 'ppeshortage', 'proudly', 'painkiller', 'duck', 'philadelphia', 'cnbctv', 'unsure', 'tb', 'underpaid', 'resolved', 'contacting', 'trace', 'roasted', 'captify', 'pros', 'positioned', 'awkward', 'occupied', 'eric', 'govwhitmer', 'conditioned', 'manages', 'rotting', 'persist', 'saturdays', 'drying', 'posters', 'hotspot', 'unpack', 'presentation', 'dose', 'upended', 'xauusd', 'keen', 'nursery', 'rewarded', 'enroll', 'prevail', 'jagograhakjago', 'queing', 'ruined', 'yoursafetyismysafety', 'cbcnews', 'pandemonium', 'businessowner', 'knocking', 'periods', 'cad', 'wand', 'jk', 'idiotic', 'boosted', 'scoop', 'patent', 'expressing', 'disadvantaged', 'blatant', 'reshape', 'mvp', 'madmax', 'ali', 'playstation', 'broccoli', 'boomer', 'attendant', 'ka', 'carlos', 'replies', 'toast', 'curry', 'weareinthistogether', 'consult', 'metpoliceuk', 'obamacare', 'professions', 'kwh', 'default', 'casual', 'blew', 'quarters', 'heartwarming', 'clash', 'tsunami', 'travels', 'mines', 'eradicate', 'documented', 'buckwheat', 'omfg', 'contaminating', 'intensify', 'morgue', 'bulkbuying', 'absent', 'govevers', 'accountable', 'vc', 'eco', 'maid', 'console', 'preying', 'protectthevulnerable', 'heaven', 'loonie', 'tweeps', 'reverse', 'shite', 'airfare', 'miguel', 'deposits', 'preserving', 'wil', 'myth', 'cast', 'triggering', 'generating', 'permit', 'oyo', 'precarious', 'govofco', 'independently', 'breast', 'bayarea', 'shorten', 'rumor', 'vertical', 'diversify', 'investigates', 'hudson', 'exhausting', 'vulnerabilities', 'geopolitical', 'diff', 'outreach', 'cdnecon', 'covididiot', 'teeth', 'cdt', 'pummeled', 'tipped', 'agbecerra', 'lockdownsa', 'mia', 'chad', 'northam', 'rife', 'totallockdown', 'align', 'ol', 'jharkhand', 'hog', 'sportsdirectuk', 'bahrain', 'correlation', 'forbearance', 'comparison', 'phosphate', 'capture', 'daca', 'boycottsportsdirect', 'narendra', 'nh', 'propping', 'covidactnow', 'postage', 'maxwell', 'hemantsorenjmm', 'liters', 'forest', 'cleanse', 'connecticut', 'samsung', 'jay', 'cereals', 'senschumer', 'fisheries', 'interstate', 'defence', 'chop', 'auchan', 'baltimore', 'veterans', 'pete', 'hv', 'separately', 'rallied', 'barr', 'blessings', 'prod', 'wider', 'surgeon', 'mechanisms', 'famine', 'yup', 'sterilizer', 'itc', 'samsclub', 'accessibility', 'holidaymakers', 'xbox', 'obsessed', 'bbq', 'belongs', 'flout', 'overcoming', 'weakening', 'surpass', 'vodafonegroup', 'transported', 'negotiating', 'lungs', 'adverse', 'gdcampaigns', 'apnea', 'parallel', 'protests', 'trumppressbriefing', 'elmhurst', 'bpd', 'consultancy', 'cartels', 'restart', 'moredays', 'pavement', 'losers', 'halifax', 'ahmedabad', 'happyeaster', 'reasi', 'unruly', 'waiver', 'suppresses', 'stagnant', 'markup', 'dha', 'rewrote', 'irs', 'boc', 'cong', 'allstate', 'sterile', 'exxon', 'strains', 'cuny', 'alleging', 'pi', 'cornell', 'draw', 'consistency', 'vaping', 'perceived', 'rotorua', 'napa', 'waitlist', 'saharan', 'delicate', 'aapl', 'staysafeug', 'activist', 'pedestrian', 'iot', 'trumppressconf', 'huntsman', 'dole', 'faulty', 'kpmg', 'explodes', 'feud', 'seanhannity', 'clapforthenhs', 'propylene', 'policing', 'kiwis', 'mrjamesob', 'filtration', 'withdraws', 'moderate', 'offerings', 'gambling', 'negotiated', 'eliminating', 'internationaldayofhappiness', 'festivals', 'foodie', 'booth', 'casually', 'whichever', 'rachelwharton', 'mcorkery', 'encouragement', 'santizer', 'invade', 'motivation', 'togetherwecan', 'riverside', 'shakes', 'behavioural', 'sliding', 'peddling', 'experian', 'paramedic', 'cheque', 'tri', 'beneath', 'romance', 'peaked', 'echo', 'bbcpolitics', 'bullet', 'unprepared', 'matched', 'propertymarket', 'tradingstandards', 'globalization', 'liked', 'invaluable', 'quaratineandchill', 'lawn', 'prohibited', 'newsroom', 'norway', 'normality', 'interior', 'sl', 'screwing', 'finest', 'thirds', 'asthmatic', 'shoulders', 'cornoravirusuk', 'xx', 'vox', 'compiling', 'jus', 'independence', 'ins', 'electricitymarkets', 'prone', 'coronaviruscrisis', 'busiest', 'obligation', 'continental', 'brighton', 'applauded', 'des', 'fortnite', 'chan', 'haram', 'imagination', 'contributed', 'representative', 'dietary', 'quadrupled', 'limbo', 'remarkable', 'comp', 'expendable', 'pushback', 'lengths', 'husbands', 'abhabhattarai', 'dent', 'taobao', 'mancity', 'shorter', 'mco', 'considerable', 'drains', 'rupees', 'appearance', 'generosity', 'mixing', 'ghanaians', 'agric', 'blossom', 'licks', 'drunk', 'comms', 'survivors', 'revoked', 'belgian', 'globalpandemic', 'capitalists', 'deflationary', 'mu', 'scarves', 'input', 'vinyl', 'generational', 'disneyland', 'spreaker', 'ge', 'houseprices', 'lockout', 'modelling', 'peaceful', 'upgrading', 'dean', 'spotify', 'academy', 'washhands', 'cabinfever', 'sth', 'throng', 'fairer', 'recycled', 'involve', 'operated', 'refinery', 'vilas', 'newyorkstateag', 'feds', 'mtnza', 'bbcworld', 'nicolasturgeon', 'boxed', 'cheering', 'flushable', 'officeofut', 'forecasting', 'modest', 'sits', 'teenage', 'bcs', 'dhscgovuk', 'capabilities', 'kenyatta', 'motorists', 'os', 'montreal', 'teaches', 'themed', 'overly', 'messing', 'inhumane', 'interrupt', 'exacerbate', 'psychological', 'trinidad', 'postponing', 'props', 'notify', 'penguin', 'adventures', 'superior', 'droplet', 'additionally', 'ep', 'acquiring', 'stretched', 'smo', 'yougov', 'tuesdays', 'bulletin', 'presidencyza', 'dod', 'nikki', 'terrorist', 'allocate', 'contrary', 'exemptions', 'nepal', 'effectiveness', 'essence', 'ssi', 'flagship', 'legends', 'yvr', 'democracy', 'peers', 'ra', 'sauces', 'emt', 'ecological', 'expiration', 'gig', 'supposedly', 'ubs', 'ham', 'eerie', 'attacked', 'honored', 'smokers', 'lightly', 'louder', 'monica', 'donuts', 'jo', 'dove', 'grandpa', 'wagers', 'degree', 'ski', 'quid', 'mintel', 'captain', 'conclusion', 'prepping', 'bug', 'sourced', 'oc', 'livestream', 'parked', 'shes', 'lengthy', 'favorites', 'anilsinghvi', 'glance', 'anticipating', 'toothpaste', 'regina', 'neworleans', 'penn', 'circular', 'centered', 'coronafighters', 'administrative', 'vons', 'ftse', 'traded', 'emergence', 'helpingothers', 'aussies', 'lunchtime', 'antiviral', 'migration', 'lasvegas', 'leo', 'unavoidable', 'sooo', 'happiness', 'laura', 'justify', 'airways', 'purse', 'reputation', 'stomach', 'walmartcanada', 'unusually', 'paradox', 'ineffective', 'diners', 'calming', 'ryanair', 'scaring', 'depleting', 'donaldjtrumpjr', 'santizers', 'businessnews', 'rwandatrade', 'albert', 'inspections', 'cspanwj', 'sore', 'projections', 'pritzker', 'supreme', 'voluntary', 'arsehole', 'resiliency', 'doordash', 'newspaper', 'preliminary', 'praises', 'patch', 'chefs', 'gf', 'scheduling', 'wga', 'lip', 'sterilize', 'tbh', 'uncomfortable', 'worrisome', 'labeled', 'inhaler', 'nephew', 'grind', 'nstnation', 'culinary', 'blast', 'purely', 'ness', 'resorted', 'smoothly', 'sausages', 'evans', 'dampen', 'digitaltransformation', 'shopee', 'barter', 'dickheads', 'credible', 'vlog', 'gregabbott', 'preview', 'maria', 'mishra', 'ralphs', 'chatter', 'cleansing', 'europeans', 'sbs', 'verified', 'counterfeit', 'tofu', 'voices', 'prize', 'fo', 'converting', 'maids', 'crushing', 'subway', 'platinum', 'proposing', 'demise', 'comforting', 'peterborough', 'frightened', 'overstock', 'congressional', 'empire', 'oversold', 'ivankatrump', 'laguna', 'southeast', 'ifpri', 'craig', 'identifying', 'pl', 'disagree', 'soviet', 'background', 'nyclockdown', 'thu', 'liar', 'hancock', 'nasdaq', 'reconsider', 'distilledspirit', 'lentils', 'grocerydelivery', 'relates', 'parker', 'frontlineheroes', 'mentioning', 'shelfs', 'deaf', 'londoners', 'transmit', 'casinos', 'vector', 'disparity', 'weaken', 'coin', 'holed', 'laborers', 'edit', 'entrepreneurs', 'unprotected', 'obscene', 'consumergoods', 'refugee', 'vunerable', 'yikes', 'hazardous', 'unreasonable', 'hk', 'hamilton', 'creditors', 'academic', 'bath', 'unseen', 'invested', 'malaysian', 'societal', 'navy', 'revive', 'informing', 'pizzas', 'patrick', 'renewed', 'catholic', 'monitored', 'oshawa', 'dated', 'haunt', 'fucker', 'wears', 'forefront', 'smallbiz', 'assumptions', 'districts', 'foreigners', 'guilt', 'tempting', 'breaker', 'makemytrip', 'defeated', 'owen', 'easiest', 'kungflu', 'genz', 'grofers', 'stayconnected', 'secs', 'foolish', 'trumpliespeopledie', 'parody', 'unimaginable', 'award', 'september', 'guides', 'canadalockdown', 'lean', 'conscience', 'maskshortage', 'supportlocalbusiness', 'wit', 'amsterdam', 'burgers', 'climbing', 'appealed', 'selfcare', 'retailgazette', 'silence', 'naivas', 'irl', 'hcw', 'hammering', 'si', 'outing', 'hse', 'clapforourcarers', 'ramps', 'trustworthy', 'cybercriminals', 'keto', 'snapchat', 'otc', 'importer', 'reassess', 'meditation', 'mosul', 'abrupt', 'quicktake', 'vanpoli', 'jewelosco', 'dancing', 'renewal', 'deter', 'scoopit', 'annually', 'bookstores', 'jolly', 'crossed', 'sprint', 'quaratine', 'weakens', 'cooperatives', 'yemen', 'conflict', 'integrated', 'stocker', 'horribly', 'picnic', 'unaware', 'housekeeping', 'rioting', 'beverly', 'carnage', 'description', 'sums', 'greenwich', 'overcrowded', 'inclusive', 'propublica', 'gravity', 'acquisition', 'onwards', 'stakes', 'levity', 'postmates', 'forming', 'epic', 'globeandmail', 'edt', 'heartbroken', 'robinsons', 'racial', 'lineups', 'sustaining', 'resin', 'fork', 'reviewing', 'livid', 'pinch', 'councillor', 'boutiques', 'theories', 'indiafightcorona', 'plug', 'dreading', 'documents', 'vaccination', 'dementia', 'dial', 'argued', 'dailymail', 'disconnected', 'racine', 'bbcwatchdog', 'distress', 'epidemics', 'jnj', 'neighbouring', 'macron', 'doomed', 'indicator', 'cylinders', 'klopapier', 'dominicraab', 'fe', 'stayinghome', 'nada', 'stabilizes', 'coat', 'protip', 'gran', 'guarantees', 'trades', 'dollargeneral', 'sidewalk', 'avengers', 'fifty', 'firstresponders', 'component', 'cookie', 'segments', 'catherine', 'itch', 'continually', 'boat', 'southampton', 'coronachainscare', 'inflatable', 'bodega', 'leasing', 'abdul', 'sometime', 'lifebuoy', 'jai', 'barrie', 'beresponsible', 'chilling', 'interviewing', 'destinations', 'malaysians', 'distraction', 'highstreet', 'jkenney', 'opting', 'introvert', 'instability', 'writingcommunity', 'saturdaymotivation', 'disasters', 'benice', 'jackpot', 'diverse', 'matatus', 'mountains', 'statistic', 'spokesman', 'buylocal', 'insa', 'tightly', 'nih', 'dads', 'smm', 'switches', 'thereby', 'offenders', 'distressed', 'damascus', 'jd', 'separated', 'preston', 'citizensadvice', 'websitedesign', 'embracing', 'homebuyers', 'rebecca', 'lakhs', 'accidentally', 'manutd', 'naps', 'lad', 'parasites', 'transferred', 'judged', 'flash', 'cycles', 'polls', 'piers', 'oap', 'joggers', 'maths', 'roast', 'bsybjp', 'enquiries', 'seasoning', 'illustrates', 'nightclub', 'louise', 'compelling', 'policymakers', 'costume', 'makinde', 'emergesmarter', 'mitigating', 'bo', 'volunteered', 'rebel', 'mgvcl', 'slight', 'cited', 'invading', 'remarks', 'flip', 'raymond', 'historically', 'corrected', 'stir', 'epicenter', 'picky', 'eater', 'labeling', 'harmed', 'scrambled', 'puzzles', 'healthtips', 'protesting', 'boycottvodafone', 'asleep', 'cult', 'norms', 'cerb', 'uncover', 'realty', 'stones', 'furloughing', 'instruct', 'qu', 'retailweek', 'spacex', 'poland', 'assaulted', 'denatured', 'beekeeping', 'advisers', 'falcone', 'sheriff', 'doorknobs', 'galway', 'greek', 'wings', 'consumerinsights', 'trumpliesamericansdie', 'ncdc', 'wheelchair', 'developers', 'ftcscambingo', 'thankyounhs', 'sykescottages', 'graphics', 'accusations', 'complexity', 'baseline', 'firmly', 'extensions', 'compounding', 'converts', 'remodels', 'cycleways', 'cautiously', 'eases', 'complained', 'accelerates', 'packers', 'reacted', 'stretching', 'contractors', 'pent', 'tiger', 'distributions', 'theater', 'txsu', 'lil', 'militias', 'milwaukee', 'engines', 'inconvenient', 'ppv', 'novartis', 'exxonmobil', 'jenkins', 'bridport', 'palmsunday', 'cougher', 'princess', 'deb', 'canibrands', 'wtop', 'catapulted', 'jasoosshow', 'easterbunny', 'kolonya', 'retaildive', 'espionage', 'affiliate', 'foodsystems', 'bedevils', 'gambia', 'jeremy', 'recalls', 'secrecy', 'mikequindazzi', 'vending', 'refuge', 'overreaction', 'ruby', 'specialty', 'fighters', 'pudding', 'recruited', 'superpower', 'scraps', 'crumbled', 'rapaport', 'defined', 'unknowingly', 'swept', 'lilly', 'foodprices', 'pmi', 'zoomupyourlife', 'upbeat', 'lumber', 'socioeconomic', 'endangered', 'beatcovid', 'flocking', 'lighter', 'soy', 'fitch', 'mis', 'bothered', 'muppets', 'rahulgandhi', 'bajaj', 'onlineclasses', 'bands', 'referring', 'minofhealthug', 'spared', 'interestingly', 'kmart', 'elizabeth', 'alter', 'naturalgas', 'swings', 'enfield', 'disappearing', 'bicycles', 'junkie', 'truckdrivers', 'californiacoronavirus', 'inspection', 'protectionism', 'trickle', 'destroys', 'understood', 'jimmyfallon', 'sticker', 'optical', 'npdgroup', 'lion', 'fart', 'divorce', 'troubles', 'mississauga', 'wey', 'wetherspoon', 'rogers', 'equipments', 'doj', 'tito', 'sara', 'continuously', 'bumper', 'lockdownnz', 'tpci', 'respective', 'drank', 'kazakhstan', 'rex', 'carol', 'mummy', 'voter', 'bundle', 'profiles', 'plumbing', 'rightfully', 'betty', 'coordinating', 'asparagus', 'tamil', 'spicy', 'pride', 'aceng', 'payroll', 'lavender', 'handshake', 'ibadan', 'pvt', 'imp', 'reuse', 'savlon', 'hs', 'croozefmnews', 'chronically', 'earliest', 'reacts', 'sin', 'condo', 'nanny', 'calculate', 'clientele', 'mirza', 'justin', 'witch', 'reprieve', 'papa', 'tryna', 'coronaaustralia', 'starmer', 'sup', 'troy', 'harrow', 'dwnews', 'statues', 'theyre', 'simultaneous', 'infra', 'monkeys', 'trumpplague', 'visible', 'indicated', 'attended', 'thecounter', 'proactively', 'agrisa', 'amenities', 'payouts', 'tee', 'cfa', 'sealed', 'lynn', 'didiza', 'draft', 'electrical', 'emotions', 'emirates', 'telecommunications', 'crown', 'sharpest', 'printer', 'boats', 'quiz', 'gartner', 'strategist', 'ironically', 'describe', 'slaps', 'bases', 'recreation', 'incentives', 'monopolies', 'thenewnormal', 'tobago', 'heal', 'desires', 'drtedros', 'guild', 'placement', 'gianteagle', 'souls', 'sticky', 'rosie', 'engine', 'caller', 'emotion', 'penne', 'deserving', 'predominantly', 'deforestation', 'dubbed', 'hampers', 'internationally', 'ont', 'washhand', 'tightening', 'enrollment', 'cologne', 'repairs', 'consumerbehaviour', 'retreat', 'pooping', 'outer', 'cody', 'warrenton', 'enduring', 'liquids', 'invention', 'flags', 'versova', 'certification', 'sofa', 'drawings', 'profs', 'establishes', 'tutorial', 'mitch', 'underwear', 'douglas', 'roommate', 'rum', 'consolidation', 'citrus', 'consumerism', 'competent', 'lehman', 'nonexistent', 'exploding', 'detected', 'symptomatic', 'ringing', 'scourge', 'character', 'shilla', 'lucrative', 'flushed', 'robbed', 'selfdistancing', 'proceed', 'locking', 'deodorant', 'bbcyourquestions', 'binmen', 'marginal', 'dense', 'von', 'campaigners', 'triage', 'freshdirect', 'hillaryclinton', 'dwp', 'waits', 'oldest', 'wardrobe', 'crackers', 'flattened', 'rank', 'southwestair', 'johncornyn', 'swamped', 'coronaviruske', 'spite', 'aca', 'lounge', 'bros', 'sophie', 'bearing', 'civic', 'manipulating', 'cpho', 'sustained', 'banging', 'tues', 'mandates', 'stanley', 'publish', 'bts', 'dishes', 'carona', 'waving', 'fuelled', 'itwire', 'indicators', 'carries', 'implies', 'healthcareworkers', 'expats', 'metlife', 'summit', 'unnoticed', 'pensioner', 'sorts', 'playgrounds', 'shook', 'katie', 'compassionate', 'scamming', 'principle', 'upsetting', 'survives', 'pertaining', 'unbelievably', 'sensanders', 'jon', 'crave', 'spacing', 'poster', 'fil', 'ego', 'subsidized', 'picks', 'universe', 'horrified', 'rmb', 'healing', 'jammu', 'hires', 'passwords', 'acct', 'nailed', 'dispose', 'denies', 'styles', 'unsold', 'newsaus', 'transforming', 'unleashed', 'charter', 'ir', 'twitch', 'departments', 'presidents', 'thismorning', 'contributes', 'pressing', 'intent', 'damages', 'canal', 'bev', 'drsanjaygupta', 'rocketed', 'tbt', 'defensive', 'praising', 'physician', 'lyon', 'embarrassment', 'quedateencasa', 'deceptive', 'reg', 'tolerate', 'trenches', 'height', 'mince', 'bathandbodyworks', 'corrections', 'institutional', 'steven', 'trumpcrash', 'acid', 'antibiotics', 'ic', 'saveworkers', 'dots', 'harassing', 'tranquileyes', 'covod', 'superstar', 'briefly', 'cons', 'tony', 'sept', 'bundles', 'jumping', 'toyota', 'timed', 'ravaged', 'libraries', 'wto', 'emerges', 'improvise', 'portland', 'interventions', 'leap', 'suppressed', 'explosive', 'dispenser', 'exists', 'paramount', 'wednesdaymotivation', 'subside', 'circles', 'ingrahamangle', 'wrecked', 'manual', 'leonard', 'native', 'impression', 'upped', 'kitco', 'hoboken', 'crappy', 'slumped', 'blogging', 'injection', 'angst', 'supportsmallbusiness', 'kings', 'bullion', 'bu', 'outrage', 'rupee', 'intake', 'sonny', 'diaries', 'maximize', 'ruling', 'ukrainian', 'foam', 'logistic', 'majorly', 'ransom', 'chilled', 'hmoindia', 'askdrh', 'continuous', 'sip', 'cub', 'crippling', 'penalty', 'custard', 'basmati', 'ideally', 'dips', 'lifts', 'planes', 'guideline', 'vintage', 'rtenews', 'infant', 'fighter', 'linings', 'pact', 'whomever', 'optimum', 'sleeves', 'govern', 'cease', 'wreaks', 'bailey', 'singer', 'tubs', 'capability', 'zeebusiness', 'coins', 'carryout', 'gavin', 'pressured', 'po', 'outfits', 'inexcusable', 'puerto', 'urine', 'educators', 'roulette', 'ga', 'lender', 'gem', 'vacancies', 'touting', 'bipartisan', 'kurdistan', 'clicking', 'devastation', 'grabs', 'battery', 'depriving', 'ghee', 'breach', 'existed', 'peel', 'external', 'chores', 'tele', 'widening', 'educating', 'hangs', 'togetherness', 'foil', 'randpaul', 'dynamics', 'script', 'hotlink', 'fccc', 'telkomza', 'clarification', 'uneasy', 'bury', 'examine', 'query', 'exponential', 'adversely', 'miserably', 'helpless', 'stubborn', 'squeezed', 'roaming', 'fasting', 'assuring', 'blueyonder', 'taxis', 'halts', 'fml', 'chrismurphyct', 'rogue', 'hella', 'mixture', 'fireworks', 'gro', 'taxation', 'cincinnati', 'presumably', 'nut', 'squad', 'stan', 'hills', 'diversification', 'perilofafrica', 'almond', 'concentration', 'seize', 'chocolates', 'anne', 'disrespectful', 'winco', 'bricks', 'vt', 'warranty', 'eventual', 'lg', 'intolerances', 'spreaders', 'erupted', 'siege', 'norwegian', 'coronakrise', 'hai', 'oranges', 'adams', 'takeover', 'implementation', 'inflationary', 'latimes', 'neat', 'radar', 'heath', 'sally', 'flag', 'overload', 'unitedkingdom', 'senategop', 'thankfulthursday', 'injustice', 'acccgovau', 'brookshire', 'precedent', 'busted', 'motor', 'coronavirustoronto', 'devastated', 'deterioration', 'dasani', 'sexy', 'hamptons', 'creams', 'matthewlesh', 'curtis', 'staysafeshoponline', 'civilised', 'midday', 'crafts', 'arts', 'coeliac', 'ritual', 'southkorea', 'mildly', 'edeka', 'invite', 'frauds', 'habra', 'epicentre', 'napkins', 'profited', 'bj', 'elusive', 'dock', 'costa', 'spinning', 'ds', 'confiscated', 'tgt', 'bouncers', 'dfs', 'borisout', 'desde', 'witham', 'scooters', 'sweets', 'dos', 'careless', 'throwbackthursday', 'buhari', 'mauritius', 'stayhomeaustralia', 'coronaviru', 'tasty', 'kano', 'escalation', 'brennan', 'refill', 'literacy', 'occidental', 'postman', 'indigenous', 'shattered', 'claire', 'dnc', 'growyourown', 'bcz', 'stopit', 'downgraded', 'allied', 'magecart', 'comical', 'booty', 'katrina', 'antimalarial', 'mygovindia', 'responsive', 'economical', 'pymnts', 'ethereum', 'sachs', 'niagara', 'median', 'thrilled', 'bothering', 'gown', 'canadacovid', 'puertorico', 'challenged', 'precisely', 'undermining', 'calockdown', 'hq', 'champions', 'nab', 'await', 'jefferson', 'cultural', 'hotlines', 'undeniable', 'rollercoaster', 'batman', 'boeing', 'existential', 'ttf', 'sewage', 'cram', 'prudent', 'shoved', 'liquefied', 'macro', 'wrestlemania', 'iranians', 'hongkong', 'ruled', 'hm', 'analyse', 'dread', 'bursting', 'hedging', 'catalyst', 'coach', 'cochrane', 'consultations', 'pac', 'invasion', 'dudes', 'counterfeiters', 'draining', 'appointed', 'queries', 'amwriting', 'repeats', 'sugary', 'creation', 'exempted', 'idaho', 'debut', 'diarrhoea', 'dstv', 'streams', 'zombieland', 'handbag', 'quilted', 'coronainmaharashtra', 'pickle', 'itv', 'drums', 'desi', 'highways', 'cellphone', 'representation', 'newsnight', 'juliahb', 'dreaming', 'newcastle', 'marty', 'morningsmaria', 'knight', 'namaste', 'handgel', 'gentleman', 'menace', 'ambassador', 'tabs', 'naughty', 'violent', 'arise', 'evaluation', 'publications', 'sha', 'irvine', 'clarke', 'slid', 'promotes', 'afar', 'roots', 'influenced', 'govpritzker', 'silicon', 'flourish', 'myers', 'applauds', 'rev', 'rains', 'confronting', 'aiding', 'fraser', 'boycotted', 'gasbuddy', 'pmmodi', 'appeals', 'comrade', 'consoles', 'coronavirusnyc', 'root', 'remembering', 'fraction', 'offence', 'bec', 'rylan', 'bullets', 'wawa', 'instances', 'crafting', 'duncan', 'rumour', 'efficiency', 'parenting', 'crisps', 'maskup', 'bush', 'furiously', 'colleges', 'reviewed', 'procedure', 'croydon', 'existent', 'adexchanger', 'lingering', 'prisoners', 'hefty', 'valuations', 'replenishing', 'rags', 'pat', 'bumped', 'detained', 'institution', 'blvd', 'keypads', 'lincoln', 'citi', 'pal', 'stockmarkets', 'janitorial', 'lovers', 'translate', 'oxford', 'bottoms', 'supermercados', 'lasted', 'ada', 'contra', 'visibly', 'designate', 'lame', 'copies', 'occasions', 'storefront', 'prediction', 'heri', 'flirting', 'handshakes', 'loblaw', 'messed', 'taps', 'agreements', 'admiration', 'fcacan', 'firstdayofspring', 'functions', 'collaborate', 'keepsafe', 'drilling', 'dries', 'tahini', 'commute', 'hindered', 'etsy', 'fab', 'slumps', 'scream', 'gi', 'lb', 'sufferers', 'loom', 'lobbies', 'indispensable', 'cauliflower', 'dhaka', 'cam', 'mastercard', 'museum', 'embarrassed', 'loudly', 'builders', 'zoonotic', 'wartime', 'dragging', 'dreaded', 'fade', 'backdrop', 'factsnotfear', 'hat', 'awake', 'pillows', 'selfishly', 'barcode', 'batteries', 'scroll', 'congregating']\n",
            "[ 0.17523694  0.06339207  0.0087793   0.05816441 -0.08937103 -0.15593071\n",
            " -0.24622567  0.19281834  0.09612361 -0.05884365 -0.00908315 -0.1499402\n",
            " -0.03838963  0.2147417   0.15545481 -0.02594323  0.29150614 -0.2463499\n",
            " -0.03236503 -0.19794478  0.4126201   0.17703366  0.15719202 -0.20950696\n",
            " -0.05622712  0.07374009 -0.31988847 -0.06681787 -0.00105529  0.04749692\n",
            "  0.2150454   0.17531407  0.09238901 -0.28660107 -0.09901577  0.1806812\n",
            " -0.3409793  -0.22843847 -0.19913009 -0.10160488 -0.21477912 -0.03210163\n",
            "  0.02712754  0.08397098  0.19496202 -0.00471897 -0.11106272 -0.01608498\n",
            "  0.14338057  0.31243882  0.13191742  0.00802132  0.04872322 -0.02883813\n",
            "  0.02555687  0.01582271 -0.02339305  0.21134463  0.02532515  0.14868274\n",
            " -0.17172086  0.03911404 -0.0144122  -0.00546998 -0.31352526  0.08528598\n",
            "  0.14876112  0.29856202 -0.05116336  0.22693701 -0.13658048 -0.29181358\n",
            "  0.2635855   0.03953583 -0.05075398  0.1938437  -0.23715726  0.04085928\n",
            "  0.03371523  0.0900379  -0.01602398 -0.13458979 -0.19063255  0.07728571\n",
            "  0.18881914 -0.06536343  0.04756196  0.1542962   0.09875608  0.11505347\n",
            "  0.25822222 -0.00105599  0.06629827 -0.11452377  0.20676461  0.1504959\n",
            "  0.10388983 -0.02502901 -0.238642   -0.05904498]\n"
          ]
        }
      ]
    },
    {
      "cell_type": "markdown",
      "source": [
        "# Glove"
      ],
      "metadata": {
        "id": "XkwkOjN1EArx"
      }
    },
    {
      "cell_type": "code",
      "source": [
        "import kagglehub\n",
        "\n",
        "# Download latest version\n",
        "path = kagglehub.dataset_download(\"danielwillgeorge/glove6b100dtxt\")\n",
        "\n",
        "print(\"Path to dataset files:\", path)"
      ],
      "metadata": {
        "colab": {
          "base_uri": "https://localhost:8080/"
        },
        "id": "n0OedIPkOWSa",
        "outputId": "a8b62a2a-ea18-4e22-adfb-d251fa1a88b6"
      },
      "execution_count": null,
      "outputs": [
        {
          "output_type": "stream",
          "name": "stdout",
          "text": [
            "Path to dataset files: /kaggle/input/glove6b100dtxt\n"
          ]
        }
      ]
    },
    {
      "cell_type": "markdown",
      "source": [
        "## Loading GloVe Vectors in Python"
      ],
      "metadata": {
        "id": "zzXHHN_8OwaD"
      }
    },
    {
      "cell_type": "code",
      "source": [
        "import numpy as np\n",
        "\n",
        "def load_glove_model(glove_file):\n",
        "    \"\"\"Loads GloVe word vectors from a text file.\"\"\"\n",
        "    word_vectors = {}\n",
        "    with open(glove_file, 'r', encoding='utf-8') as f:\n",
        "        for line in f:\n",
        "            parts = line.split()\n",
        "            word = parts[0]\n",
        "            vector = np.array([float(val) for val in parts[1:]])\n",
        "            word_vectors[word] = vector\n",
        "    return word_vectors\n",
        "\n",
        "# Replace 'path/to/your/glove.6B.100d.txt' with the actual path\n",
        "glove_model = load_glove_model('/kaggle/input/glove6b100dtxt/glove.6B.100d.txt')\n",
        "\n",
        "# Using the Embeddings\n",
        "word = \"example\"\n",
        "if word in glove_model:\n",
        "    embedding = glove_model[word]\n",
        "    print(f\"Embedding for '{word}':\\n{embedding}\")\n",
        "else:\n",
        "    print(f\"'{word}' not found in GloVe vocabulary.\")\n",
        "\n"
      ],
      "metadata": {
        "colab": {
          "base_uri": "https://localhost:8080/"
        },
        "id": "uTrp3QPFD_tt",
        "outputId": "799a1787-7f50-4ccb-86c0-d06349fd73cb"
      },
      "execution_count": null,
      "outputs": [
        {
          "output_type": "stream",
          "name": "stdout",
          "text": [
            "Embedding for 'example':\n",
            "[-0.12617    0.61724    0.22581    0.39868    0.16111    0.1523\n",
            " -0.14715   -0.29447   -0.27348   -0.13753   -0.20898   -0.73436\n",
            "  0.14144    0.15048    0.09179    0.018613   0.22539    0.15979\n",
            " -0.16935    0.42716    0.042284  -0.3477    -0.11413    0.12222\n",
            " -0.025027  -0.20805   -0.067264  -0.2956    -0.30807   -0.32903\n",
            "  0.19059    0.77141   -0.19332   -0.31069    0.26745    0.32231\n",
            "  0.2065     0.10497    0.49425   -0.38322   -0.12802   -0.069906\n",
            " -0.14828    0.085369  -0.18141    0.14688    0.60968   -0.21131\n",
            " -0.29148   -0.52773    0.59508    0.017369   0.15342    0.81925\n",
            " -0.20643   -2.0378    -0.11884   -0.16826    1.5288     0.15756\n",
            " -0.4994     0.39305    0.12672   -0.10968    1.3671    -0.21006\n",
            "  0.15684    0.0063801  0.43836   -0.18765   -0.29088    0.18619\n",
            "  0.085402   0.13985    0.40794   -0.14811    0.26702   -0.19142\n",
            " -0.6189     0.0091217  0.34971   -0.24079   -0.52476   -0.25071\n",
            " -1.5681     0.22101    0.046796  -0.62616   -0.043358  -0.42865\n",
            " -0.0057843 -0.22611    0.074171   0.091597  -0.40751   -0.08359\n",
            " -0.48413   -1.0718     0.52827    0.058813 ]\n"
          ]
        }
      ]
    },
    {
      "cell_type": "markdown",
      "source": [
        "# Calculating Word Similarity (Cosine Similarity)"
      ],
      "metadata": {
        "id": "hT_Nk5L4NsER"
      }
    },
    {
      "cell_type": "code",
      "source": [
        "from scipy.spatial.distance import cosine\n",
        "\n",
        "def get_word_similarity(word1, word2, model):\n",
        "    \"\"\"Calculates cosine similarity between two words using GloVe embeddings.\"\"\"\n",
        "    if word1 in model and word2 in model:\n",
        "        vec1 = model[word1]\n",
        "        vec2 = model[word2]\n",
        "        similarity = 1 - cosine(vec1, vec2)\n",
        "        return similarity\n",
        "    else:\n",
        "        return None\n",
        "\n",
        "similarity = get_word_similarity(\"king\", \"queen\", glove_model)\n",
        "if similarity is not None:\n",
        "    print(f\"Similarity between 'king' and 'queen': {similarity}\")"
      ],
      "metadata": {
        "colab": {
          "base_uri": "https://localhost:8080/"
        },
        "id": "QoqySKT7NoSO",
        "outputId": "e7e1a255-2086-42af-ccae-df78dc0a86cd"
      },
      "execution_count": null,
      "outputs": [
        {
          "output_type": "stream",
          "name": "stdout",
          "text": [
            "Similarity between 'king' and 'queen': 0.7507690793623847\n"
          ]
        }
      ]
    },
    {
      "cell_type": "markdown",
      "source": [
        "# FastText"
      ],
      "metadata": {
        "id": "DKzmubg4RA9H"
      }
    },
    {
      "cell_type": "code",
      "source": [
        "!pip install fasttext"
      ],
      "metadata": {
        "colab": {
          "base_uri": "https://localhost:8080/"
        },
        "id": "OZE4Kdd0TOUD",
        "outputId": "173e4fe6-462b-4f13-9d78-520b36e20915"
      },
      "execution_count": null,
      "outputs": [
        {
          "output_type": "stream",
          "name": "stdout",
          "text": [
            "Collecting fasttext\n",
            "  Downloading fasttext-0.9.3.tar.gz (73 kB)\n",
            "\u001b[?25l     \u001b[90m━━━━━━━━━━━━━━━━━━━━━━━━━━━━━━━━━━━━━━━━\u001b[0m \u001b[32m0.0/73.4 kB\u001b[0m \u001b[31m?\u001b[0m eta \u001b[36m-:--:--\u001b[0m\r\u001b[2K     \u001b[90m━━━━━━━━━━━━━━━━━━━━━━━━━━━━━━━━━━━━━━━━\u001b[0m \u001b[32m73.4/73.4 kB\u001b[0m \u001b[31m2.0 MB/s\u001b[0m eta \u001b[36m0:00:00\u001b[0m\n",
            "\u001b[?25h  Installing build dependencies ... \u001b[?25l\u001b[?25hdone\n",
            "  Getting requirements to build wheel ... \u001b[?25l\u001b[?25hdone\n",
            "  Preparing metadata (pyproject.toml) ... \u001b[?25l\u001b[?25hdone\n",
            "Collecting pybind11>=2.2 (from fasttext)\n",
            "  Using cached pybind11-3.0.1-py3-none-any.whl.metadata (10.0 kB)\n",
            "Requirement already satisfied: setuptools>=0.7.0 in /usr/local/lib/python3.12/dist-packages (from fasttext) (75.2.0)\n",
            "Requirement already satisfied: numpy in /usr/local/lib/python3.12/dist-packages (from fasttext) (2.0.2)\n",
            "Using cached pybind11-3.0.1-py3-none-any.whl (293 kB)\n",
            "Building wheels for collected packages: fasttext\n",
            "  Building wheel for fasttext (pyproject.toml) ... \u001b[?25l\u001b[?25hdone\n",
            "  Created wheel for fasttext: filename=fasttext-0.9.3-cp312-cp312-linux_x86_64.whl size=4498214 sha256=adb9d8da4d76c17f004d864f531876b0f6eec45930237309a0332acc00da0757\n",
            "  Stored in directory: /root/.cache/pip/wheels/20/27/95/a7baf1b435f1cbde017cabdf1e9688526d2b0e929255a359c6\n",
            "Successfully built fasttext\n",
            "Installing collected packages: pybind11, fasttext\n",
            "Successfully installed fasttext-0.9.3 pybind11-3.0.1\n"
          ]
        }
      ]
    },
    {
      "cell_type": "code",
      "source": [
        "# Installing and Importing FastText\n",
        "import fasttext\n",
        "import os\n",
        "\n",
        "# Creating Training Data\n",
        "def create_sample_data():\n",
        "    # Sample sentences for training\n",
        "    sentences = [\n",
        "        \"The king rules the kingdom\",\n",
        "        \"The queen helps the king\",\n",
        "        \"Running is good exercise\",\n",
        "        \"The runner runs fast\",\n",
        "        \"Walking is healthy activity\",\n",
        "        \"The walker walks slowly\",\n",
        "        \"Reading books is fun\",\n",
        "        \"The reader reads daily\"\n",
        "    ]\n",
        "\n",
        "    # Save to text file (one sentence per line)\n",
        "    with open('training_data.txt', 'w') as f:\n",
        "        for sentence in sentences:\n",
        "            f.write(sentence.lower() + '\\n')  # Convert to lowercase\n",
        "\n",
        "    print(\"Training data created in 'training_data.txt'\")\n",
        "\n",
        "create_sample_data()"
      ],
      "metadata": {
        "colab": {
          "base_uri": "https://localhost:8080/"
        },
        "id": "bzsSAixTRRJy",
        "outputId": "96f971f3-685e-4af6-e7d2-18665a989900"
      },
      "execution_count": null,
      "outputs": [
        {
          "output_type": "stream",
          "name": "stdout",
          "text": [
            "Training data created in 'training_data.txt'\n"
          ]
        }
      ]
    },
    {
      "cell_type": "code",
      "source": [
        "# Training a Basic FastText Model\n",
        "def train_simple_model():\n",
        "    # Train skipgram model (predicts context from target word)\n",
        "    model = fasttext.train_unsupervised(\n",
        "        'training_data.txt',    # Input file\n",
        "        model='skipgram',\n",
        "        dim=50,                 # Embedding dimension\n",
        "        epoch=10,               # Number of training iterations\n",
        "        minCount=1,             # Minimum word frequency\n",
        "        minn=3,                 # Minimum character n-gram length\n",
        "        maxn=6                  # Maximum character n-gram length\n",
        "    )\n",
        "\n",
        "    model.save_model('word_vectors.bin')\n",
        "    print(\"Model trained and saved as 'word_vectors.bin'\")\n",
        "    return model\n",
        "\n",
        "model = train_simple_model()"
      ],
      "metadata": {
        "colab": {
          "base_uri": "https://localhost:8080/"
        },
        "id": "RhulayTxScLG",
        "outputId": "e202d8b9-cd2c-4597-8642-cc1f9cb3b6a8"
      },
      "execution_count": null,
      "outputs": [
        {
          "output_type": "stream",
          "name": "stdout",
          "text": [
            "Model trained and saved as 'word_vectors.bin'\n"
          ]
        }
      ]
    },
    {
      "cell_type": "code",
      "source": [
        "# Getting Word Vectors\n",
        "def get_word_embeddings(model):\n",
        "    king_vector = model.get_word_vector('king')\n",
        "    print(f\"Vector for 'king': {king_vector[:5]}...\")\n",
        "    print(f\"Vector shape: {king_vector.shape}\")\n",
        "\n",
        "    kingdom_vector = model.get_word_vector('kingdom')\n",
        "    print(f\"Vector for 'kingdom' (OOV): {kingdom_vector[:5]}...\")\n",
        "\n",
        "    return king_vector, kingdom_vector\n",
        "\n",
        "king_vec, kingdom_vec = get_word_embeddings(model)"
      ],
      "metadata": {
        "colab": {
          "base_uri": "https://localhost:8080/"
        },
        "id": "CYP1grCfSl7j",
        "outputId": "6b4a1916-ce0c-4de0-d2de-a45a6a5a6fcf"
      },
      "execution_count": null,
      "outputs": [
        {
          "output_type": "stream",
          "name": "stdout",
          "text": [
            "Vector for 'king': [-0.0001826  -0.00033079  0.0004302   0.00088911 -0.00164602]...\n",
            "Vector shape: (50,)\n",
            "Vector for 'kingdom' (OOV): [ 0.00122273  0.00092931 -0.00018005 -0.00013839 -0.00051276]...\n"
          ]
        }
      ]
    },
    {
      "cell_type": "code",
      "source": [
        "# Finding Similar Words\n",
        "def find_similar_words(model, word, k=3):\n",
        "    print(f\"\\nWords similar to '{word}':\")\n",
        "    try:\n",
        "        neighbors = model.get_nearest_neighbors(word, k)\n",
        "        for i, (similarity, similar_word) in enumerate(neighbors, 1):\n",
        "            print(f\"{i}. {similar_word}: {similarity:.4f}\")\n",
        "    except Exception as e:\n",
        "        print(f\"Error: {e}\")\n",
        "\n",
        "find_similar_words(model, 'king')\n",
        "find_similar_words(model, 'running')"
      ],
      "metadata": {
        "colab": {
          "base_uri": "https://localhost:8080/"
        },
        "id": "Bki2MZHMTBeE",
        "outputId": "503f2d59-574d-4afa-aeda-ffa15315449d"
      },
      "execution_count": null,
      "outputs": [
        {
          "output_type": "stream",
          "name": "stdout",
          "text": [
            "\n",
            "Words similar to 'king':\n",
            "1. walks: 0.2693\n",
            "2. running: 0.1971\n",
            "3. queen: 0.1912\n",
            "\n",
            "Words similar to 'running':\n",
            "1. runner: 0.4778\n",
            "2. the: 0.3344\n",
            "3. runs: 0.2653\n"
          ]
        }
      ]
    }
  ]
}